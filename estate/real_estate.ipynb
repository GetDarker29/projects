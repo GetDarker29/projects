{
 "cells": [
  {
   "cell_type": "markdown",
   "metadata": {},
   "source": [
    "# Исследование объявлений о продаже квартир\n",
    "\n",
    "Проанализировать объявления о продаже квартир в Санкт-Петербурге и соседних населённых пунктах за несколько лет. Изучить параметры квартир и определить, какие факторы влияют на стоимость квартиры."
   ]
  },
  {
   "cell_type": "markdown",
   "metadata": {},
   "source": [
    "### Шаг 1. Откройте файл с данными и изучите общую информацию. "
   ]
  },
  {
   "cell_type": "code",
   "execution_count": 1,
   "metadata": {},
   "outputs": [],
   "source": [
    "import pandas as pd #импорт pandas"
   ]
  },
  {
   "cell_type": "code",
   "execution_count": 2,
   "metadata": {},
   "outputs": [],
   "source": [
    "selling = pd.read_csv('/datasets/real_estate_data.csv', sep='\\t', decimal=',') #<чтение датасета и присвоение переменной selling>\n",
    "#<предварительно прочитав датасет и увидев там склеены строки разделю с помощью sep='\\t'>"
   ]
  },
  {
   "cell_type": "code",
   "execution_count": 3,
   "metadata": {},
   "outputs": [
    {
     "data": {
      "text/html": [
       "<div>\n",
       "<style scoped>\n",
       "    .dataframe tbody tr th:only-of-type {\n",
       "        vertical-align: middle;\n",
       "    }\n",
       "\n",
       "    .dataframe tbody tr th {\n",
       "        vertical-align: top;\n",
       "    }\n",
       "\n",
       "    .dataframe thead th {\n",
       "        text-align: right;\n",
       "    }\n",
       "</style>\n",
       "<table border=\"1\" class=\"dataframe\">\n",
       "  <thead>\n",
       "    <tr style=\"text-align: right;\">\n",
       "      <th></th>\n",
       "      <th>total_images</th>\n",
       "      <th>last_price</th>\n",
       "      <th>total_area</th>\n",
       "      <th>first_day_exposition</th>\n",
       "      <th>rooms</th>\n",
       "      <th>ceiling_height</th>\n",
       "      <th>floors_total</th>\n",
       "      <th>living_area</th>\n",
       "      <th>floor</th>\n",
       "      <th>is_apartment</th>\n",
       "      <th>...</th>\n",
       "      <th>kitchen_area</th>\n",
       "      <th>balcony</th>\n",
       "      <th>locality_name</th>\n",
       "      <th>airports_nearest</th>\n",
       "      <th>cityCenters_nearest</th>\n",
       "      <th>parks_around3000</th>\n",
       "      <th>parks_nearest</th>\n",
       "      <th>ponds_around3000</th>\n",
       "      <th>ponds_nearest</th>\n",
       "      <th>days_exposition</th>\n",
       "    </tr>\n",
       "  </thead>\n",
       "  <tbody>\n",
       "    <tr>\n",
       "      <td>0</td>\n",
       "      <td>20</td>\n",
       "      <td>13000000.0</td>\n",
       "      <td>108.0</td>\n",
       "      <td>2019-03-07T00:00:00</td>\n",
       "      <td>3</td>\n",
       "      <td>2.7</td>\n",
       "      <td>16.0</td>\n",
       "      <td>51.0</td>\n",
       "      <td>8</td>\n",
       "      <td>NaN</td>\n",
       "      <td>...</td>\n",
       "      <td>25.0</td>\n",
       "      <td>NaN</td>\n",
       "      <td>Санкт-Петербург</td>\n",
       "      <td>18863.0</td>\n",
       "      <td>16028.0</td>\n",
       "      <td>1.0</td>\n",
       "      <td>482.0</td>\n",
       "      <td>2.0</td>\n",
       "      <td>755.0</td>\n",
       "      <td>NaN</td>\n",
       "    </tr>\n",
       "    <tr>\n",
       "      <td>1</td>\n",
       "      <td>7</td>\n",
       "      <td>3350000.0</td>\n",
       "      <td>40.4</td>\n",
       "      <td>2018-12-04T00:00:00</td>\n",
       "      <td>1</td>\n",
       "      <td>NaN</td>\n",
       "      <td>11.0</td>\n",
       "      <td>18.6</td>\n",
       "      <td>1</td>\n",
       "      <td>NaN</td>\n",
       "      <td>...</td>\n",
       "      <td>11.0</td>\n",
       "      <td>2.0</td>\n",
       "      <td>посёлок Шушары</td>\n",
       "      <td>12817.0</td>\n",
       "      <td>18603.0</td>\n",
       "      <td>0.0</td>\n",
       "      <td>NaN</td>\n",
       "      <td>0.0</td>\n",
       "      <td>NaN</td>\n",
       "      <td>81.0</td>\n",
       "    </tr>\n",
       "    <tr>\n",
       "      <td>2</td>\n",
       "      <td>10</td>\n",
       "      <td>5196000.0</td>\n",
       "      <td>56.0</td>\n",
       "      <td>2015-08-20T00:00:00</td>\n",
       "      <td>2</td>\n",
       "      <td>NaN</td>\n",
       "      <td>5.0</td>\n",
       "      <td>34.3</td>\n",
       "      <td>4</td>\n",
       "      <td>NaN</td>\n",
       "      <td>...</td>\n",
       "      <td>8.3</td>\n",
       "      <td>0.0</td>\n",
       "      <td>Санкт-Петербург</td>\n",
       "      <td>21741.0</td>\n",
       "      <td>13933.0</td>\n",
       "      <td>1.0</td>\n",
       "      <td>90.0</td>\n",
       "      <td>2.0</td>\n",
       "      <td>574.0</td>\n",
       "      <td>558.0</td>\n",
       "    </tr>\n",
       "    <tr>\n",
       "      <td>3</td>\n",
       "      <td>0</td>\n",
       "      <td>64900000.0</td>\n",
       "      <td>159.0</td>\n",
       "      <td>2015-07-24T00:00:00</td>\n",
       "      <td>3</td>\n",
       "      <td>NaN</td>\n",
       "      <td>14.0</td>\n",
       "      <td>NaN</td>\n",
       "      <td>9</td>\n",
       "      <td>NaN</td>\n",
       "      <td>...</td>\n",
       "      <td>NaN</td>\n",
       "      <td>0.0</td>\n",
       "      <td>Санкт-Петербург</td>\n",
       "      <td>28098.0</td>\n",
       "      <td>6800.0</td>\n",
       "      <td>2.0</td>\n",
       "      <td>84.0</td>\n",
       "      <td>3.0</td>\n",
       "      <td>234.0</td>\n",
       "      <td>424.0</td>\n",
       "    </tr>\n",
       "    <tr>\n",
       "      <td>4</td>\n",
       "      <td>2</td>\n",
       "      <td>10000000.0</td>\n",
       "      <td>100.0</td>\n",
       "      <td>2018-06-19T00:00:00</td>\n",
       "      <td>2</td>\n",
       "      <td>3.03</td>\n",
       "      <td>14.0</td>\n",
       "      <td>32.0</td>\n",
       "      <td>13</td>\n",
       "      <td>NaN</td>\n",
       "      <td>...</td>\n",
       "      <td>41.0</td>\n",
       "      <td>NaN</td>\n",
       "      <td>Санкт-Петербург</td>\n",
       "      <td>31856.0</td>\n",
       "      <td>8098.0</td>\n",
       "      <td>2.0</td>\n",
       "      <td>112.0</td>\n",
       "      <td>1.0</td>\n",
       "      <td>48.0</td>\n",
       "      <td>121.0</td>\n",
       "    </tr>\n",
       "  </tbody>\n",
       "</table>\n",
       "<p>5 rows × 22 columns</p>\n",
       "</div>"
      ],
      "text/plain": [
       "   total_images  last_price total_area first_day_exposition  rooms  \\\n",
       "0            20  13000000.0      108.0  2019-03-07T00:00:00      3   \n",
       "1             7   3350000.0       40.4  2018-12-04T00:00:00      1   \n",
       "2            10   5196000.0       56.0  2015-08-20T00:00:00      2   \n",
       "3             0  64900000.0      159.0  2015-07-24T00:00:00      3   \n",
       "4             2  10000000.0      100.0  2018-06-19T00:00:00      2   \n",
       "\n",
       "  ceiling_height floors_total living_area  floor is_apartment  ...  \\\n",
       "0            2.7         16.0        51.0      8          NaN  ...   \n",
       "1            NaN         11.0        18.6      1          NaN  ...   \n",
       "2            NaN          5.0        34.3      4          NaN  ...   \n",
       "3            NaN         14.0         NaN      9          NaN  ...   \n",
       "4           3.03         14.0        32.0     13          NaN  ...   \n",
       "\n",
       "   kitchen_area  balcony    locality_name airports_nearest  \\\n",
       "0          25.0      NaN  Санкт-Петербург          18863.0   \n",
       "1          11.0      2.0   посёлок Шушары          12817.0   \n",
       "2           8.3      0.0  Санкт-Петербург          21741.0   \n",
       "3           NaN      0.0  Санкт-Петербург          28098.0   \n",
       "4          41.0      NaN  Санкт-Петербург          31856.0   \n",
       "\n",
       "  cityCenters_nearest parks_around3000 parks_nearest ponds_around3000  \\\n",
       "0             16028.0              1.0         482.0              2.0   \n",
       "1             18603.0              0.0           NaN              0.0   \n",
       "2             13933.0              1.0          90.0              2.0   \n",
       "3              6800.0              2.0          84.0              3.0   \n",
       "4              8098.0              2.0         112.0              1.0   \n",
       "\n",
       "  ponds_nearest days_exposition  \n",
       "0         755.0             NaN  \n",
       "1           NaN            81.0  \n",
       "2         574.0           558.0  \n",
       "3         234.0           424.0  \n",
       "4          48.0           121.0  \n",
       "\n",
       "[5 rows x 22 columns]"
      ]
     },
     "execution_count": 3,
     "metadata": {},
     "output_type": "execute_result"
    }
   ],
   "source": [
    "selling.head(5) #вывод пяти первых строк"
   ]
  },
  {
   "cell_type": "code",
   "execution_count": 4,
   "metadata": {},
   "outputs": [
    {
     "name": "stdout",
     "output_type": "stream",
     "text": [
      "<class 'pandas.core.frame.DataFrame'>\n",
      "RangeIndex: 23699 entries, 0 to 23698\n",
      "Data columns (total 22 columns):\n",
      "total_images            23699 non-null int64\n",
      "last_price              23699 non-null object\n",
      "total_area              23699 non-null object\n",
      "first_day_exposition    23699 non-null object\n",
      "rooms                   23699 non-null int64\n",
      "ceiling_height          14504 non-null object\n",
      "floors_total            23613 non-null object\n",
      "living_area             21796 non-null object\n",
      "floor                   23699 non-null int64\n",
      "is_apartment            2775 non-null object\n",
      "studio                  23699 non-null bool\n",
      "open_plan               23699 non-null bool\n",
      "kitchen_area            21421 non-null object\n",
      "balcony                 12180 non-null object\n",
      "locality_name           23650 non-null object\n",
      "airports_nearest        18157 non-null object\n",
      "cityCenters_nearest     18180 non-null object\n",
      "parks_around3000        18181 non-null object\n",
      "parks_nearest           8079 non-null object\n",
      "ponds_around3000        18181 non-null object\n",
      "ponds_nearest           9110 non-null object\n",
      "days_exposition         20518 non-null object\n",
      "dtypes: bool(2), int64(3), object(17)\n",
      "memory usage: 3.7+ MB\n"
     ]
    }
   ],
   "source": [
    "selling.info() #печать информации о таблице"
   ]
  },
  {
   "cell_type": "markdown",
   "metadata": {},
   "source": [
    "Таблица содержит 23699 строк и 22 столбцов. Сразу бросается в глаза, что много столбцов имеют пропущенные значения. Взглянем на них\n",
    "и посмотрим, что можно с ними сделать.\n",
    "Пропуски данных с информацией о квартире(наличие балкона, к какому типу недвижимости относится и т.п.) возникли из-за человеческого фактора, неправильное заполнение формы объявления. А её геолокация(расстояние до аэропорта, парки поблизости...) из-за технического."
   ]
  },
  {
   "cell_type": "code",
   "execution_count": 5,
   "metadata": {},
   "outputs": [
    {
     "data": {
      "text/html": [
       "<div>\n",
       "<style scoped>\n",
       "    .dataframe tbody tr th:only-of-type {\n",
       "        vertical-align: middle;\n",
       "    }\n",
       "\n",
       "    .dataframe tbody tr th {\n",
       "        vertical-align: top;\n",
       "    }\n",
       "\n",
       "    .dataframe thead th {\n",
       "        text-align: right;\n",
       "    }\n",
       "</style>\n",
       "<table border=\"1\" class=\"dataframe\">\n",
       "  <thead>\n",
       "    <tr style=\"text-align: right;\">\n",
       "      <th></th>\n",
       "      <th>total_images</th>\n",
       "      <th>rooms</th>\n",
       "      <th>floor</th>\n",
       "    </tr>\n",
       "  </thead>\n",
       "  <tbody>\n",
       "    <tr>\n",
       "      <td>count</td>\n",
       "      <td>23699.000000</td>\n",
       "      <td>23699.000000</td>\n",
       "      <td>23699.000000</td>\n",
       "    </tr>\n",
       "    <tr>\n",
       "      <td>mean</td>\n",
       "      <td>9.858475</td>\n",
       "      <td>2.070636</td>\n",
       "      <td>5.892358</td>\n",
       "    </tr>\n",
       "    <tr>\n",
       "      <td>std</td>\n",
       "      <td>5.682529</td>\n",
       "      <td>1.078405</td>\n",
       "      <td>4.885249</td>\n",
       "    </tr>\n",
       "    <tr>\n",
       "      <td>min</td>\n",
       "      <td>0.000000</td>\n",
       "      <td>0.000000</td>\n",
       "      <td>1.000000</td>\n",
       "    </tr>\n",
       "    <tr>\n",
       "      <td>25%</td>\n",
       "      <td>6.000000</td>\n",
       "      <td>1.000000</td>\n",
       "      <td>2.000000</td>\n",
       "    </tr>\n",
       "    <tr>\n",
       "      <td>50%</td>\n",
       "      <td>9.000000</td>\n",
       "      <td>2.000000</td>\n",
       "      <td>4.000000</td>\n",
       "    </tr>\n",
       "    <tr>\n",
       "      <td>75%</td>\n",
       "      <td>14.000000</td>\n",
       "      <td>3.000000</td>\n",
       "      <td>8.000000</td>\n",
       "    </tr>\n",
       "    <tr>\n",
       "      <td>max</td>\n",
       "      <td>50.000000</td>\n",
       "      <td>19.000000</td>\n",
       "      <td>33.000000</td>\n",
       "    </tr>\n",
       "  </tbody>\n",
       "</table>\n",
       "</div>"
      ],
      "text/plain": [
       "       total_images         rooms         floor\n",
       "count  23699.000000  23699.000000  23699.000000\n",
       "mean       9.858475      2.070636      5.892358\n",
       "std        5.682529      1.078405      4.885249\n",
       "min        0.000000      0.000000      1.000000\n",
       "25%        6.000000      1.000000      2.000000\n",
       "50%        9.000000      2.000000      4.000000\n",
       "75%       14.000000      3.000000      8.000000\n",
       "max       50.000000     19.000000     33.000000"
      ]
     },
     "execution_count": 5,
     "metadata": {},
     "output_type": "execute_result"
    }
   ],
   "source": [
    "selling.describe() #посмотрю на характеристики числовых таблиц"
   ]
  },
  {
   "cell_type": "markdown",
   "metadata": {},
   "source": [
    "Еще одна проблема исходной таблицы: почему то столбцы, которые должны быть числом - имеют тип данных object, это тоже\n",
    "надо исправить."
   ]
  },
  {
   "cell_type": "markdown",
   "metadata": {},
   "source": [
    "### Шаг 2. Предобработка данных"
   ]
  },
  {
   "cell_type": "markdown",
   "metadata": {},
   "source": [
    "### Работа с пропусками"
   ]
  },
  {
   "cell_type": "markdown",
   "metadata": {},
   "source": [
    "#### Столбцы, с пропущенными значениями"
   ]
  },
  {
   "cell_type": "code",
   "execution_count": 6,
   "metadata": {},
   "outputs": [
    {
     "data": {
      "text/plain": [
       "total_images            False\n",
       "last_price              False\n",
       "total_area              False\n",
       "first_day_exposition    False\n",
       "rooms                   False\n",
       "ceiling_height           True\n",
       "floors_total             True\n",
       "living_area              True\n",
       "floor                   False\n",
       "is_apartment             True\n",
       "studio                  False\n",
       "open_plan               False\n",
       "kitchen_area             True\n",
       "balcony                  True\n",
       "locality_name            True\n",
       "airports_nearest         True\n",
       "cityCenters_nearest      True\n",
       "parks_around3000         True\n",
       "parks_nearest            True\n",
       "ponds_around3000         True\n",
       "ponds_nearest            True\n",
       "days_exposition          True\n",
       "dtype: bool"
      ]
     },
     "execution_count": 6,
     "metadata": {},
     "output_type": "execute_result"
    }
   ],
   "source": [
    "pd.isnull(selling).sum() > 0 #столбцы со значением True содержат пропуск"
   ]
  },
  {
   "cell_type": "markdown",
   "metadata": {},
   "source": [
    "#### Заполнение пропусков, где это уместно"
   ]
  },
  {
   "cell_type": "markdown",
   "metadata": {},
   "source": [
    "Пустые значения в столбце is_apartment заменим на False, потому что при заполнении объявления это поле оставлено пустым, так как данный вид помещения не является апартаментами."
   ]
  },
  {
   "cell_type": "code",
   "execution_count": 7,
   "metadata": {},
   "outputs": [],
   "source": [
    "selling['is_apartment'] = selling['is_apartment'].fillna(False) #заменим пустые значения на логическое False"
   ]
  },
  {
   "cell_type": "markdown",
   "metadata": {},
   "source": [
    "Пустые значения в столбце balcony заменим на 0, так как при заполнении объявления они оставлены пустыми, подразумевая что там балкона нет."
   ]
  },
  {
   "cell_type": "code",
   "execution_count": 8,
   "metadata": {},
   "outputs": [],
   "source": [
    "selling['balcony'] = selling['balcony'].fillna(0) #заменим пустые значения на 0"
   ]
  },
  {
   "cell_type": "markdown",
   "metadata": {},
   "source": [
    "Пустые значения в столбце localty_name заменю на unknown"
   ]
  },
  {
   "cell_type": "code",
   "execution_count": 9,
   "metadata": {},
   "outputs": [],
   "source": [
    "selling['locality_name'] = selling['locality_name'].fillna('unknown')\n",
    "#замена пустых значений на unknown(неизвестный)"
   ]
  },
  {
   "cell_type": "markdown",
   "metadata": {},
   "source": [
    "### Замена типа данных"
   ]
  },
  {
   "cell_type": "markdown",
   "metadata": {},
   "source": [
    "#### Работа с датой"
   ]
  },
  {
   "cell_type": "code",
   "execution_count": 10,
   "metadata": {},
   "outputs": [],
   "source": [
    "selling['first_day_exposition'] = pd.to_datetime(selling['first_day_exposition'], format = '%Y-%m-%d')\n",
    "#перевод столбца с информацией о дате размещения объявления в тип datetume с помощью метода to_datetime\n",
    "#без указания часа, минуты и секунды, так как у всех объявлений он 00:00:00"
   ]
  },
  {
   "cell_type": "code",
   "execution_count": 11,
   "metadata": {},
   "outputs": [
    {
     "name": "stdout",
     "output_type": "stream",
     "text": [
      "<class 'pandas.core.frame.DataFrame'>\n",
      "RangeIndex: 23699 entries, 0 to 23698\n",
      "Data columns (total 22 columns):\n",
      "total_images            23699 non-null int64\n",
      "last_price              23699 non-null object\n",
      "total_area              23699 non-null object\n",
      "first_day_exposition    23699 non-null datetime64[ns]\n",
      "rooms                   23699 non-null int64\n",
      "ceiling_height          14504 non-null object\n",
      "floors_total            23613 non-null object\n",
      "living_area             21796 non-null object\n",
      "floor                   23699 non-null int64\n",
      "is_apartment            23699 non-null bool\n",
      "studio                  23699 non-null bool\n",
      "open_plan               23699 non-null bool\n",
      "kitchen_area            21421 non-null object\n",
      "balcony                 23699 non-null object\n",
      "locality_name           23699 non-null object\n",
      "airports_nearest        18157 non-null object\n",
      "cityCenters_nearest     18180 non-null object\n",
      "parks_around3000        18181 non-null object\n",
      "parks_nearest           8079 non-null object\n",
      "ponds_around3000        18181 non-null object\n",
      "ponds_nearest           9110 non-null object\n",
      "days_exposition         20518 non-null object\n",
      "dtypes: bool(3), datetime64[ns](1), int64(3), object(15)\n",
      "memory usage: 3.5+ MB\n"
     ]
    }
   ],
   "source": [
    "selling.info() #результат перевода"
   ]
  },
  {
   "cell_type": "markdown",
   "metadata": {},
   "source": [
    "#### Столбцы, в которых надо заменить тип данных \n",
    "- airports_nearest — расстояние до ближайшего аэропорта в метрах (м)\n",
    "- balcony — число балконов\n",
    "- ceiling_height — высота потолков (м)\n",
    "- cityCenters_nearest — расстояние до центра города (м)\n",
    "- days_exposition — сколько дней было размещено объявление (от публикации до снятия)\n",
    "- floors_total — всего этажей в доме\n",
    "- kitchen_area — площадь кухни в квадратных метрах (м²)\n",
    "- last_price — цена на момент снятия с публикации\n",
    "- living_area — жилая площадь в квадратных метрах(м²)\n",
    "- parks_around3000 — число парков в радиусе 3 км\n",
    "- parks_nearest — расстояние до ближайшего парка (м)\n",
    "- ponds_around3000 — число водоёмов в радиусе 3 км\n",
    "- ponds_nearest — расстояние до ближайшего водоёма (м)\n",
    "- total_area — площадь квартиры в квадратных метрах (м²)"
   ]
  },
  {
   "cell_type": "code",
   "execution_count": 12,
   "metadata": {},
   "outputs": [
    {
     "data": {
      "text/html": [
       "<div>\n",
       "<style scoped>\n",
       "    .dataframe tbody tr th:only-of-type {\n",
       "        vertical-align: middle;\n",
       "    }\n",
       "\n",
       "    .dataframe tbody tr th {\n",
       "        vertical-align: top;\n",
       "    }\n",
       "\n",
       "    .dataframe thead th {\n",
       "        text-align: right;\n",
       "    }\n",
       "</style>\n",
       "<table border=\"1\" class=\"dataframe\">\n",
       "  <thead>\n",
       "    <tr style=\"text-align: right;\">\n",
       "      <th></th>\n",
       "      <th>airports_nearest</th>\n",
       "      <th>balcony</th>\n",
       "      <th>ceiling_height</th>\n",
       "      <th>cityCenters_nearest</th>\n",
       "      <th>days_exposition</th>\n",
       "      <th>floors_total</th>\n",
       "      <th>kitchen_area</th>\n",
       "    </tr>\n",
       "  </thead>\n",
       "  <tbody>\n",
       "    <tr>\n",
       "      <td>0</td>\n",
       "      <td>18863.0</td>\n",
       "      <td>0</td>\n",
       "      <td>2.7</td>\n",
       "      <td>16028.0</td>\n",
       "      <td>NaN</td>\n",
       "      <td>16.0</td>\n",
       "      <td>25.0</td>\n",
       "    </tr>\n",
       "    <tr>\n",
       "      <td>1</td>\n",
       "      <td>12817.0</td>\n",
       "      <td>2.0</td>\n",
       "      <td>NaN</td>\n",
       "      <td>18603.0</td>\n",
       "      <td>81.0</td>\n",
       "      <td>11.0</td>\n",
       "      <td>11.0</td>\n",
       "    </tr>\n",
       "    <tr>\n",
       "      <td>2</td>\n",
       "      <td>21741.0</td>\n",
       "      <td>0.0</td>\n",
       "      <td>NaN</td>\n",
       "      <td>13933.0</td>\n",
       "      <td>558.0</td>\n",
       "      <td>5.0</td>\n",
       "      <td>8.3</td>\n",
       "    </tr>\n",
       "    <tr>\n",
       "      <td>3</td>\n",
       "      <td>28098.0</td>\n",
       "      <td>0.0</td>\n",
       "      <td>NaN</td>\n",
       "      <td>6800.0</td>\n",
       "      <td>424.0</td>\n",
       "      <td>14.0</td>\n",
       "      <td>NaN</td>\n",
       "    </tr>\n",
       "    <tr>\n",
       "      <td>4</td>\n",
       "      <td>31856.0</td>\n",
       "      <td>0</td>\n",
       "      <td>3.03</td>\n",
       "      <td>8098.0</td>\n",
       "      <td>121.0</td>\n",
       "      <td>14.0</td>\n",
       "      <td>41.0</td>\n",
       "    </tr>\n",
       "    <tr>\n",
       "      <td>5</td>\n",
       "      <td>NaN</td>\n",
       "      <td>0</td>\n",
       "      <td>NaN</td>\n",
       "      <td>NaN</td>\n",
       "      <td>55.0</td>\n",
       "      <td>12.0</td>\n",
       "      <td>9.1</td>\n",
       "    </tr>\n",
       "    <tr>\n",
       "      <td>6</td>\n",
       "      <td>52996.0</td>\n",
       "      <td>1.0</td>\n",
       "      <td>NaN</td>\n",
       "      <td>19143.0</td>\n",
       "      <td>155.0</td>\n",
       "      <td>26.0</td>\n",
       "      <td>14.4</td>\n",
       "    </tr>\n",
       "    <tr>\n",
       "      <td>7</td>\n",
       "      <td>23982.0</td>\n",
       "      <td>2.0</td>\n",
       "      <td>NaN</td>\n",
       "      <td>11634.0</td>\n",
       "      <td>NaN</td>\n",
       "      <td>24.0</td>\n",
       "      <td>18.9</td>\n",
       "    </tr>\n",
       "    <tr>\n",
       "      <td>8</td>\n",
       "      <td>NaN</td>\n",
       "      <td>0</td>\n",
       "      <td>NaN</td>\n",
       "      <td>NaN</td>\n",
       "      <td>189.00000000000003</td>\n",
       "      <td>27.0</td>\n",
       "      <td>8.81</td>\n",
       "    </tr>\n",
       "    <tr>\n",
       "      <td>9</td>\n",
       "      <td>50898.0</td>\n",
       "      <td>2.0</td>\n",
       "      <td>2.5</td>\n",
       "      <td>15008.0</td>\n",
       "      <td>289.0</td>\n",
       "      <td>9.0</td>\n",
       "      <td>6.5</td>\n",
       "    </tr>\n",
       "  </tbody>\n",
       "</table>\n",
       "</div>"
      ],
      "text/plain": [
       "  airports_nearest balcony ceiling_height cityCenters_nearest  \\\n",
       "0          18863.0       0            2.7             16028.0   \n",
       "1          12817.0     2.0            NaN             18603.0   \n",
       "2          21741.0     0.0            NaN             13933.0   \n",
       "3          28098.0     0.0            NaN              6800.0   \n",
       "4          31856.0       0           3.03              8098.0   \n",
       "5              NaN       0            NaN                 NaN   \n",
       "6          52996.0     1.0            NaN             19143.0   \n",
       "7          23982.0     2.0            NaN             11634.0   \n",
       "8              NaN       0            NaN                 NaN   \n",
       "9          50898.0     2.0            2.5             15008.0   \n",
       "\n",
       "      days_exposition floors_total kitchen_area  \n",
       "0                 NaN         16.0         25.0  \n",
       "1                81.0         11.0         11.0  \n",
       "2               558.0          5.0          8.3  \n",
       "3               424.0         14.0          NaN  \n",
       "4               121.0         14.0         41.0  \n",
       "5                55.0         12.0          9.1  \n",
       "6               155.0         26.0         14.4  \n",
       "7                 NaN         24.0         18.9  \n",
       "8  189.00000000000003         27.0         8.81  \n",
       "9               289.0          9.0          6.5  "
      ]
     },
     "execution_count": 12,
     "metadata": {},
     "output_type": "execute_result"
    }
   ],
   "source": [
    "selling[['airports_nearest', 'balcony', 'ceiling_height', 'cityCenters_nearest', 'days_exposition', 'floors_total', 'kitchen_area']].head(10)\n",
    "#печать 10 строк с первой половиной столбцов из нашего списка"
   ]
  },
  {
   "cell_type": "code",
   "execution_count": 13,
   "metadata": {},
   "outputs": [
    {
     "data": {
      "text/html": [
       "<div>\n",
       "<style scoped>\n",
       "    .dataframe tbody tr th:only-of-type {\n",
       "        vertical-align: middle;\n",
       "    }\n",
       "\n",
       "    .dataframe tbody tr th {\n",
       "        vertical-align: top;\n",
       "    }\n",
       "\n",
       "    .dataframe thead th {\n",
       "        text-align: right;\n",
       "    }\n",
       "</style>\n",
       "<table border=\"1\" class=\"dataframe\">\n",
       "  <thead>\n",
       "    <tr style=\"text-align: right;\">\n",
       "      <th></th>\n",
       "      <th>last_price</th>\n",
       "      <th>living_area</th>\n",
       "      <th>parks_around3000</th>\n",
       "      <th>parks_nearest</th>\n",
       "      <th>ponds_around3000</th>\n",
       "      <th>ponds_nearest</th>\n",
       "      <th>total_area</th>\n",
       "    </tr>\n",
       "  </thead>\n",
       "  <tbody>\n",
       "    <tr>\n",
       "      <td>0</td>\n",
       "      <td>13000000.0</td>\n",
       "      <td>51.0</td>\n",
       "      <td>1.0</td>\n",
       "      <td>482.0</td>\n",
       "      <td>2.0</td>\n",
       "      <td>755.0</td>\n",
       "      <td>108.0</td>\n",
       "    </tr>\n",
       "    <tr>\n",
       "      <td>1</td>\n",
       "      <td>3350000.0</td>\n",
       "      <td>18.6</td>\n",
       "      <td>0.0</td>\n",
       "      <td>NaN</td>\n",
       "      <td>0.0</td>\n",
       "      <td>NaN</td>\n",
       "      <td>40.4</td>\n",
       "    </tr>\n",
       "    <tr>\n",
       "      <td>2</td>\n",
       "      <td>5196000.0</td>\n",
       "      <td>34.3</td>\n",
       "      <td>1.0</td>\n",
       "      <td>90.0</td>\n",
       "      <td>2.0</td>\n",
       "      <td>574.0</td>\n",
       "      <td>56.0</td>\n",
       "    </tr>\n",
       "    <tr>\n",
       "      <td>3</td>\n",
       "      <td>64900000.0</td>\n",
       "      <td>NaN</td>\n",
       "      <td>2.0</td>\n",
       "      <td>84.0</td>\n",
       "      <td>3.0</td>\n",
       "      <td>234.0</td>\n",
       "      <td>159.0</td>\n",
       "    </tr>\n",
       "    <tr>\n",
       "      <td>4</td>\n",
       "      <td>10000000.0</td>\n",
       "      <td>32.0</td>\n",
       "      <td>2.0</td>\n",
       "      <td>112.0</td>\n",
       "      <td>1.0</td>\n",
       "      <td>48.0</td>\n",
       "      <td>100.0</td>\n",
       "    </tr>\n",
       "    <tr>\n",
       "      <td>5</td>\n",
       "      <td>2890000.0</td>\n",
       "      <td>14.4</td>\n",
       "      <td>NaN</td>\n",
       "      <td>NaN</td>\n",
       "      <td>NaN</td>\n",
       "      <td>NaN</td>\n",
       "      <td>30.4</td>\n",
       "    </tr>\n",
       "    <tr>\n",
       "      <td>6</td>\n",
       "      <td>3700000.0</td>\n",
       "      <td>10.6</td>\n",
       "      <td>0.0</td>\n",
       "      <td>NaN</td>\n",
       "      <td>0.0</td>\n",
       "      <td>NaN</td>\n",
       "      <td>37.3</td>\n",
       "    </tr>\n",
       "    <tr>\n",
       "      <td>7</td>\n",
       "      <td>7915000.0</td>\n",
       "      <td>NaN</td>\n",
       "      <td>0.0</td>\n",
       "      <td>NaN</td>\n",
       "      <td>0.0</td>\n",
       "      <td>NaN</td>\n",
       "      <td>71.6</td>\n",
       "    </tr>\n",
       "    <tr>\n",
       "      <td>8</td>\n",
       "      <td>2900000.0</td>\n",
       "      <td>15.43</td>\n",
       "      <td>NaN</td>\n",
       "      <td>NaN</td>\n",
       "      <td>NaN</td>\n",
       "      <td>NaN</td>\n",
       "      <td>33.16</td>\n",
       "    </tr>\n",
       "    <tr>\n",
       "      <td>9</td>\n",
       "      <td>5400000.0</td>\n",
       "      <td>43.6</td>\n",
       "      <td>0.0</td>\n",
       "      <td>NaN</td>\n",
       "      <td>0.0</td>\n",
       "      <td>NaN</td>\n",
       "      <td>61.0</td>\n",
       "    </tr>\n",
       "  </tbody>\n",
       "</table>\n",
       "</div>"
      ],
      "text/plain": [
       "   last_price living_area parks_around3000 parks_nearest ponds_around3000  \\\n",
       "0  13000000.0        51.0              1.0         482.0              2.0   \n",
       "1   3350000.0        18.6              0.0           NaN              0.0   \n",
       "2   5196000.0        34.3              1.0          90.0              2.0   \n",
       "3  64900000.0         NaN              2.0          84.0              3.0   \n",
       "4  10000000.0        32.0              2.0         112.0              1.0   \n",
       "5   2890000.0        14.4              NaN           NaN              NaN   \n",
       "6   3700000.0        10.6              0.0           NaN              0.0   \n",
       "7   7915000.0         NaN              0.0           NaN              0.0   \n",
       "8   2900000.0       15.43              NaN           NaN              NaN   \n",
       "9   5400000.0        43.6              0.0           NaN              0.0   \n",
       "\n",
       "  ponds_nearest total_area  \n",
       "0         755.0      108.0  \n",
       "1           NaN       40.4  \n",
       "2         574.0       56.0  \n",
       "3         234.0      159.0  \n",
       "4          48.0      100.0  \n",
       "5           NaN       30.4  \n",
       "6           NaN       37.3  \n",
       "7           NaN       71.6  \n",
       "8           NaN      33.16  \n",
       "9           NaN       61.0  "
      ]
     },
     "execution_count": 13,
     "metadata": {},
     "output_type": "execute_result"
    }
   ],
   "source": [
    "selling[['last_price', 'living_area', 'parks_around3000', 'parks_nearest', 'ponds_around3000', 'ponds_nearest', 'total_area']].head(10)\n",
    "#печать 10 строк с другой половиной столбцов из нашего списка"
   ]
  },
  {
   "cell_type": "code",
   "execution_count": 14,
   "metadata": {},
   "outputs": [],
   "source": [
    "selling['airports_nearest'] = selling['airports_nearest'].dropna().astype('float')\n",
    "selling['balcony'] = selling['balcony'].dropna().astype('float')\n",
    "selling['ceiling_height'] = selling['ceiling_height'].dropna().astype('float')\n",
    "selling['cityCenters_nearest'] = selling['cityCenters_nearest'].dropna().astype('float')\n",
    "selling['days_exposition'] = selling['days_exposition'].dropna().astype('float')\n",
    "selling['floors_total'] = selling['floors_total'].dropna().astype('float')\n",
    "selling['kitchen_area'] = selling['kitchen_area'].dropna().astype('float')\n",
    "selling['last_price'] = selling['last_price'].dropna().astype('float')\n",
    "selling['living_area'] = selling['living_area'].dropna().astype('float')\n",
    "selling['parks_around3000'] = selling['parks_around3000'].dropna().astype('float')\n",
    "selling['parks_nearest'] = selling['parks_nearest'].dropna().astype('float')\n",
    "selling['ponds_around3000'] = selling['ponds_around3000'].dropna().astype('float')\n",
    "selling['ponds_nearest'] = selling['ponds_nearest'].dropna().astype('float')\n",
    "selling['total_area'] = selling['total_area'].dropna().astype('float')\n",
    "#перевод значений с типа object в тип float с помощью метода astype \n",
    "#так же применен метод dropna для игнорирования пустых значений и избежания ошибок"
   ]
  },
  {
   "cell_type": "markdown",
   "metadata": {},
   "source": [
    "В данном случае переводил в float, т.к. при попытке перевода в int выдавало ошибку"
   ]
  },
  {
   "cell_type": "code",
   "execution_count": 15,
   "metadata": {},
   "outputs": [
    {
     "name": "stdout",
     "output_type": "stream",
     "text": [
      "<class 'pandas.core.frame.DataFrame'>\n",
      "RangeIndex: 23699 entries, 0 to 23698\n",
      "Data columns (total 22 columns):\n",
      "total_images            23699 non-null int64\n",
      "last_price              23699 non-null float64\n",
      "total_area              23699 non-null float64\n",
      "first_day_exposition    23699 non-null datetime64[ns]\n",
      "rooms                   23699 non-null int64\n",
      "ceiling_height          14504 non-null float64\n",
      "floors_total            23613 non-null float64\n",
      "living_area             21796 non-null float64\n",
      "floor                   23699 non-null int64\n",
      "is_apartment            23699 non-null bool\n",
      "studio                  23699 non-null bool\n",
      "open_plan               23699 non-null bool\n",
      "kitchen_area            21421 non-null float64\n",
      "balcony                 23699 non-null float64\n",
      "locality_name           23699 non-null object\n",
      "airports_nearest        18157 non-null float64\n",
      "cityCenters_nearest     18180 non-null float64\n",
      "parks_around3000        18181 non-null float64\n",
      "parks_nearest           8079 non-null float64\n",
      "ponds_around3000        18181 non-null float64\n",
      "ponds_nearest           9110 non-null float64\n",
      "days_exposition         20518 non-null float64\n",
      "dtypes: bool(3), datetime64[ns](1), float64(14), int64(3), object(1)\n",
      "memory usage: 3.5+ MB\n"
     ]
    }
   ],
   "source": [
    "selling.info() #посмотрит на результат перевода"
   ]
  },
  {
   "cell_type": "code",
   "execution_count": 16,
   "metadata": {},
   "outputs": [
    {
     "data": {
      "text/html": [
       "<div>\n",
       "<style scoped>\n",
       "    .dataframe tbody tr th:only-of-type {\n",
       "        vertical-align: middle;\n",
       "    }\n",
       "\n",
       "    .dataframe tbody tr th {\n",
       "        vertical-align: top;\n",
       "    }\n",
       "\n",
       "    .dataframe thead th {\n",
       "        text-align: right;\n",
       "    }\n",
       "</style>\n",
       "<table border=\"1\" class=\"dataframe\">\n",
       "  <thead>\n",
       "    <tr style=\"text-align: right;\">\n",
       "      <th></th>\n",
       "      <th>total_images</th>\n",
       "      <th>last_price</th>\n",
       "      <th>total_area</th>\n",
       "      <th>rooms</th>\n",
       "      <th>ceiling_height</th>\n",
       "      <th>floors_total</th>\n",
       "      <th>living_area</th>\n",
       "      <th>floor</th>\n",
       "      <th>kitchen_area</th>\n",
       "      <th>balcony</th>\n",
       "      <th>airports_nearest</th>\n",
       "      <th>cityCenters_nearest</th>\n",
       "      <th>parks_around3000</th>\n",
       "      <th>parks_nearest</th>\n",
       "      <th>ponds_around3000</th>\n",
       "      <th>ponds_nearest</th>\n",
       "      <th>days_exposition</th>\n",
       "    </tr>\n",
       "  </thead>\n",
       "  <tbody>\n",
       "    <tr>\n",
       "      <td>count</td>\n",
       "      <td>23699.000000</td>\n",
       "      <td>2.369900e+04</td>\n",
       "      <td>23699.000000</td>\n",
       "      <td>23699.000000</td>\n",
       "      <td>14504.000000</td>\n",
       "      <td>23613.000000</td>\n",
       "      <td>21796.000000</td>\n",
       "      <td>23699.000000</td>\n",
       "      <td>21421.000000</td>\n",
       "      <td>23699.000000</td>\n",
       "      <td>18157.000000</td>\n",
       "      <td>18180.000000</td>\n",
       "      <td>18181.000000</td>\n",
       "      <td>8079.000000</td>\n",
       "      <td>18181.000000</td>\n",
       "      <td>9110.000000</td>\n",
       "      <td>20518.000000</td>\n",
       "    </tr>\n",
       "    <tr>\n",
       "      <td>mean</td>\n",
       "      <td>9.858475</td>\n",
       "      <td>6.541549e+06</td>\n",
       "      <td>60.348651</td>\n",
       "      <td>2.070636</td>\n",
       "      <td>2.771499</td>\n",
       "      <td>10.673824</td>\n",
       "      <td>34.457852</td>\n",
       "      <td>5.892358</td>\n",
       "      <td>10.569807</td>\n",
       "      <td>0.591080</td>\n",
       "      <td>28793.672193</td>\n",
       "      <td>14191.277833</td>\n",
       "      <td>0.611408</td>\n",
       "      <td>490.804555</td>\n",
       "      <td>0.770255</td>\n",
       "      <td>517.980900</td>\n",
       "      <td>180.888634</td>\n",
       "    </tr>\n",
       "    <tr>\n",
       "      <td>std</td>\n",
       "      <td>5.682529</td>\n",
       "      <td>1.088701e+07</td>\n",
       "      <td>35.654083</td>\n",
       "      <td>1.078405</td>\n",
       "      <td>1.261056</td>\n",
       "      <td>6.597173</td>\n",
       "      <td>22.030445</td>\n",
       "      <td>4.885249</td>\n",
       "      <td>5.905438</td>\n",
       "      <td>0.959298</td>\n",
       "      <td>12630.880622</td>\n",
       "      <td>8608.386210</td>\n",
       "      <td>0.802074</td>\n",
       "      <td>342.317995</td>\n",
       "      <td>0.938346</td>\n",
       "      <td>277.720643</td>\n",
       "      <td>219.727988</td>\n",
       "    </tr>\n",
       "    <tr>\n",
       "      <td>min</td>\n",
       "      <td>0.000000</td>\n",
       "      <td>1.219000e+04</td>\n",
       "      <td>12.000000</td>\n",
       "      <td>0.000000</td>\n",
       "      <td>1.000000</td>\n",
       "      <td>1.000000</td>\n",
       "      <td>2.000000</td>\n",
       "      <td>1.000000</td>\n",
       "      <td>1.300000</td>\n",
       "      <td>0.000000</td>\n",
       "      <td>0.000000</td>\n",
       "      <td>181.000000</td>\n",
       "      <td>0.000000</td>\n",
       "      <td>1.000000</td>\n",
       "      <td>0.000000</td>\n",
       "      <td>13.000000</td>\n",
       "      <td>1.000000</td>\n",
       "    </tr>\n",
       "    <tr>\n",
       "      <td>25%</td>\n",
       "      <td>6.000000</td>\n",
       "      <td>3.400000e+06</td>\n",
       "      <td>40.000000</td>\n",
       "      <td>1.000000</td>\n",
       "      <td>2.520000</td>\n",
       "      <td>5.000000</td>\n",
       "      <td>18.600000</td>\n",
       "      <td>2.000000</td>\n",
       "      <td>7.000000</td>\n",
       "      <td>0.000000</td>\n",
       "      <td>18585.000000</td>\n",
       "      <td>9238.000000</td>\n",
       "      <td>0.000000</td>\n",
       "      <td>288.000000</td>\n",
       "      <td>0.000000</td>\n",
       "      <td>294.000000</td>\n",
       "      <td>45.000000</td>\n",
       "    </tr>\n",
       "    <tr>\n",
       "      <td>50%</td>\n",
       "      <td>9.000000</td>\n",
       "      <td>4.650000e+06</td>\n",
       "      <td>52.000000</td>\n",
       "      <td>2.000000</td>\n",
       "      <td>2.650000</td>\n",
       "      <td>9.000000</td>\n",
       "      <td>30.000000</td>\n",
       "      <td>4.000000</td>\n",
       "      <td>9.100000</td>\n",
       "      <td>0.000000</td>\n",
       "      <td>26726.000000</td>\n",
       "      <td>13098.500000</td>\n",
       "      <td>0.000000</td>\n",
       "      <td>455.000000</td>\n",
       "      <td>1.000000</td>\n",
       "      <td>502.000000</td>\n",
       "      <td>95.000000</td>\n",
       "    </tr>\n",
       "    <tr>\n",
       "      <td>75%</td>\n",
       "      <td>14.000000</td>\n",
       "      <td>6.800000e+06</td>\n",
       "      <td>69.900000</td>\n",
       "      <td>3.000000</td>\n",
       "      <td>2.800000</td>\n",
       "      <td>16.000000</td>\n",
       "      <td>42.300000</td>\n",
       "      <td>8.000000</td>\n",
       "      <td>12.000000</td>\n",
       "      <td>1.000000</td>\n",
       "      <td>37273.000000</td>\n",
       "      <td>16293.000000</td>\n",
       "      <td>1.000000</td>\n",
       "      <td>612.000000</td>\n",
       "      <td>1.000000</td>\n",
       "      <td>729.000000</td>\n",
       "      <td>232.000000</td>\n",
       "    </tr>\n",
       "    <tr>\n",
       "      <td>max</td>\n",
       "      <td>50.000000</td>\n",
       "      <td>7.630000e+08</td>\n",
       "      <td>900.000000</td>\n",
       "      <td>19.000000</td>\n",
       "      <td>100.000000</td>\n",
       "      <td>60.000000</td>\n",
       "      <td>409.700000</td>\n",
       "      <td>33.000000</td>\n",
       "      <td>112.000000</td>\n",
       "      <td>5.000000</td>\n",
       "      <td>84869.000000</td>\n",
       "      <td>65968.000000</td>\n",
       "      <td>3.000000</td>\n",
       "      <td>3190.000000</td>\n",
       "      <td>3.000000</td>\n",
       "      <td>1344.000000</td>\n",
       "      <td>1580.000000</td>\n",
       "    </tr>\n",
       "  </tbody>\n",
       "</table>\n",
       "</div>"
      ],
      "text/plain": [
       "       total_images    last_price    total_area         rooms  ceiling_height  \\\n",
       "count  23699.000000  2.369900e+04  23699.000000  23699.000000    14504.000000   \n",
       "mean       9.858475  6.541549e+06     60.348651      2.070636        2.771499   \n",
       "std        5.682529  1.088701e+07     35.654083      1.078405        1.261056   \n",
       "min        0.000000  1.219000e+04     12.000000      0.000000        1.000000   \n",
       "25%        6.000000  3.400000e+06     40.000000      1.000000        2.520000   \n",
       "50%        9.000000  4.650000e+06     52.000000      2.000000        2.650000   \n",
       "75%       14.000000  6.800000e+06     69.900000      3.000000        2.800000   \n",
       "max       50.000000  7.630000e+08    900.000000     19.000000      100.000000   \n",
       "\n",
       "       floors_total   living_area         floor  kitchen_area       balcony  \\\n",
       "count  23613.000000  21796.000000  23699.000000  21421.000000  23699.000000   \n",
       "mean      10.673824     34.457852      5.892358     10.569807      0.591080   \n",
       "std        6.597173     22.030445      4.885249      5.905438      0.959298   \n",
       "min        1.000000      2.000000      1.000000      1.300000      0.000000   \n",
       "25%        5.000000     18.600000      2.000000      7.000000      0.000000   \n",
       "50%        9.000000     30.000000      4.000000      9.100000      0.000000   \n",
       "75%       16.000000     42.300000      8.000000     12.000000      1.000000   \n",
       "max       60.000000    409.700000     33.000000    112.000000      5.000000   \n",
       "\n",
       "       airports_nearest  cityCenters_nearest  parks_around3000  parks_nearest  \\\n",
       "count      18157.000000         18180.000000      18181.000000    8079.000000   \n",
       "mean       28793.672193         14191.277833          0.611408     490.804555   \n",
       "std        12630.880622          8608.386210          0.802074     342.317995   \n",
       "min            0.000000           181.000000          0.000000       1.000000   \n",
       "25%        18585.000000          9238.000000          0.000000     288.000000   \n",
       "50%        26726.000000         13098.500000          0.000000     455.000000   \n",
       "75%        37273.000000         16293.000000          1.000000     612.000000   \n",
       "max        84869.000000         65968.000000          3.000000    3190.000000   \n",
       "\n",
       "       ponds_around3000  ponds_nearest  days_exposition  \n",
       "count      18181.000000    9110.000000     20518.000000  \n",
       "mean           0.770255     517.980900       180.888634  \n",
       "std            0.938346     277.720643       219.727988  \n",
       "min            0.000000      13.000000         1.000000  \n",
       "25%            0.000000     294.000000        45.000000  \n",
       "50%            1.000000     502.000000        95.000000  \n",
       "75%            1.000000     729.000000       232.000000  \n",
       "max            3.000000    1344.000000      1580.000000  "
      ]
     },
     "execution_count": 16,
     "metadata": {},
     "output_type": "execute_result"
    }
   ],
   "source": [
    "selling.describe() #взглянем на характеристики числовых таблиц"
   ]
  },
  {
   "cell_type": "markdown",
   "metadata": {},
   "source": [
    "### Вывод"
   ]
  },
  {
   "cell_type": "markdown",
   "metadata": {},
   "source": [
    "- В исходной таблице были обнаружены  логические, строковые и числовые пропуски. Некоторые из них появились из-за \"некорректного\" заполнения объявления пользователем, другие в результате плохой работы геолокации или других приложений работающих с адресами зданий.\n",
    "- В столбцах с расстоянием и площадью, где должны быть числовые типы данных заменили object на float. Столбец с датой размещения объявления изменили на datetime для дальнейшей удобной работы с ним.\n",
    "- Пропуски были заполнены лишь в тех случаях, где мы уверены, какое значение должно быть вместо пропуска. Остальные пропуски оставили без изменений, в связи с возможными искажениями результатов дальнейшего анализа."
   ]
  },
  {
   "cell_type": "markdown",
   "metadata": {},
   "source": [
    "### Шаг 3. Посчитайте и добавьте в таблицу"
   ]
  },
  {
   "cell_type": "markdown",
   "metadata": {},
   "source": [
    "#### Расчет цены за квадратный метр и добваления его в таблицу"
   ]
  },
  {
   "cell_type": "code",
   "execution_count": 17,
   "metadata": {},
   "outputs": [],
   "source": [
    "selling['price_per_square_meter'] = selling['last_price'] / selling['total_area'] #цена за квадратный метр"
   ]
  },
  {
   "cell_type": "markdown",
   "metadata": {},
   "source": [
    "#### Добваление в таблицу дня недели, месяца и года публикации"
   ]
  },
  {
   "cell_type": "code",
   "execution_count": 18,
   "metadata": {},
   "outputs": [],
   "source": [
    "selling['weekday'] = selling['first_day_exposition'].dt.weekday #вывод значения дня недели из time"
   ]
  },
  {
   "cell_type": "code",
   "execution_count": 19,
   "metadata": {},
   "outputs": [],
   "source": [
    "selling['month'] = selling['first_day_exposition'].dt.month #вывод значения месяца из time"
   ]
  },
  {
   "cell_type": "code",
   "execution_count": 20,
   "metadata": {},
   "outputs": [],
   "source": [
    "selling['year'] = selling['first_day_exposition'].dt.year #вывод значения года из time"
   ]
  },
  {
   "cell_type": "markdown",
   "metadata": {},
   "source": [
    "#### Столбец с этажом квартиры: первый, последний, другой."
   ]
  },
  {
   "cell_type": "code",
   "execution_count": 21,
   "metadata": {},
   "outputs": [],
   "source": [
    "selling.loc[selling['floor'] == 1, 'floor_category'] = 'первый' \n",
    "#использование метода .loc с условием и выводом строкового значения в новый столбец\n",
    "selling.loc[selling['floor'] == selling['floors_total'], 'floor_category'] = 'последний'\n",
    "#использование метода .loc с условием и выводом строкового значения в новый столбец\n",
    "selling.loc[(selling['floor'] != selling['floors_total']) & (selling['floor'] != 1), 'floor_category'] = 'другой'\n",
    "#использование метода .loc с условием и выводом строкового значения в новый столбец"
   ]
  },
  {
   "cell_type": "markdown",
   "metadata": {},
   "source": [
    "#### Соотношение жилой и общей площади и площади кухни к общей."
   ]
  },
  {
   "cell_type": "code",
   "execution_count": 22,
   "metadata": {},
   "outputs": [],
   "source": [
    "selling['ratio_of_living_area_and_total_area'] = selling['living_area'] / selling['total_area'] #расчет доли жилой площади ко всей"
   ]
  },
  {
   "cell_type": "code",
   "execution_count": 23,
   "metadata": {},
   "outputs": [],
   "source": [
    "selling['ratio_of_kitchen_area_and_total_area'] = selling['kitchen_area'] / selling['total_area'] #расчет доли площади кухни к общей"
   ]
  },
  {
   "cell_type": "code",
   "execution_count": 24,
   "metadata": {},
   "outputs": [
    {
     "data": {
      "text/html": [
       "<div>\n",
       "<style scoped>\n",
       "    .dataframe tbody tr th:only-of-type {\n",
       "        vertical-align: middle;\n",
       "    }\n",
       "\n",
       "    .dataframe tbody tr th {\n",
       "        vertical-align: top;\n",
       "    }\n",
       "\n",
       "    .dataframe thead th {\n",
       "        text-align: right;\n",
       "    }\n",
       "</style>\n",
       "<table border=\"1\" class=\"dataframe\">\n",
       "  <thead>\n",
       "    <tr style=\"text-align: right;\">\n",
       "      <th></th>\n",
       "      <th>total_images</th>\n",
       "      <th>last_price</th>\n",
       "      <th>total_area</th>\n",
       "      <th>first_day_exposition</th>\n",
       "      <th>rooms</th>\n",
       "      <th>ceiling_height</th>\n",
       "      <th>floors_total</th>\n",
       "      <th>living_area</th>\n",
       "      <th>floor</th>\n",
       "      <th>is_apartment</th>\n",
       "      <th>...</th>\n",
       "      <th>ponds_around3000</th>\n",
       "      <th>ponds_nearest</th>\n",
       "      <th>days_exposition</th>\n",
       "      <th>price_per_square_meter</th>\n",
       "      <th>weekday</th>\n",
       "      <th>month</th>\n",
       "      <th>year</th>\n",
       "      <th>floor_category</th>\n",
       "      <th>ratio_of_living_area_and_total_area</th>\n",
       "      <th>ratio_of_kitchen_area_and_total_area</th>\n",
       "    </tr>\n",
       "  </thead>\n",
       "  <tbody>\n",
       "    <tr>\n",
       "      <td>0</td>\n",
       "      <td>20</td>\n",
       "      <td>13000000.0</td>\n",
       "      <td>108.0</td>\n",
       "      <td>2019-03-07</td>\n",
       "      <td>3</td>\n",
       "      <td>2.7</td>\n",
       "      <td>16.0</td>\n",
       "      <td>51.0</td>\n",
       "      <td>8</td>\n",
       "      <td>False</td>\n",
       "      <td>...</td>\n",
       "      <td>2.0</td>\n",
       "      <td>755.0</td>\n",
       "      <td>NaN</td>\n",
       "      <td>120370.370370</td>\n",
       "      <td>3</td>\n",
       "      <td>3</td>\n",
       "      <td>2019</td>\n",
       "      <td>другой</td>\n",
       "      <td>0.472222</td>\n",
       "      <td>0.231481</td>\n",
       "    </tr>\n",
       "    <tr>\n",
       "      <td>1</td>\n",
       "      <td>7</td>\n",
       "      <td>3350000.0</td>\n",
       "      <td>40.4</td>\n",
       "      <td>2018-12-04</td>\n",
       "      <td>1</td>\n",
       "      <td>NaN</td>\n",
       "      <td>11.0</td>\n",
       "      <td>18.6</td>\n",
       "      <td>1</td>\n",
       "      <td>False</td>\n",
       "      <td>...</td>\n",
       "      <td>0.0</td>\n",
       "      <td>NaN</td>\n",
       "      <td>81.0</td>\n",
       "      <td>82920.792079</td>\n",
       "      <td>1</td>\n",
       "      <td>12</td>\n",
       "      <td>2018</td>\n",
       "      <td>первый</td>\n",
       "      <td>0.460396</td>\n",
       "      <td>0.272277</td>\n",
       "    </tr>\n",
       "    <tr>\n",
       "      <td>2</td>\n",
       "      <td>10</td>\n",
       "      <td>5196000.0</td>\n",
       "      <td>56.0</td>\n",
       "      <td>2015-08-20</td>\n",
       "      <td>2</td>\n",
       "      <td>NaN</td>\n",
       "      <td>5.0</td>\n",
       "      <td>34.3</td>\n",
       "      <td>4</td>\n",
       "      <td>False</td>\n",
       "      <td>...</td>\n",
       "      <td>2.0</td>\n",
       "      <td>574.0</td>\n",
       "      <td>558.0</td>\n",
       "      <td>92785.714286</td>\n",
       "      <td>3</td>\n",
       "      <td>8</td>\n",
       "      <td>2015</td>\n",
       "      <td>другой</td>\n",
       "      <td>0.612500</td>\n",
       "      <td>0.148214</td>\n",
       "    </tr>\n",
       "  </tbody>\n",
       "</table>\n",
       "<p>3 rows × 29 columns</p>\n",
       "</div>"
      ],
      "text/plain": [
       "   total_images  last_price  total_area first_day_exposition  rooms  \\\n",
       "0            20  13000000.0       108.0           2019-03-07      3   \n",
       "1             7   3350000.0        40.4           2018-12-04      1   \n",
       "2            10   5196000.0        56.0           2015-08-20      2   \n",
       "\n",
       "   ceiling_height  floors_total  living_area  floor  is_apartment  ...  \\\n",
       "0             2.7          16.0         51.0      8         False  ...   \n",
       "1             NaN          11.0         18.6      1         False  ...   \n",
       "2             NaN           5.0         34.3      4         False  ...   \n",
       "\n",
       "   ponds_around3000  ponds_nearest  days_exposition  price_per_square_meter  \\\n",
       "0               2.0          755.0              NaN           120370.370370   \n",
       "1               0.0            NaN             81.0            82920.792079   \n",
       "2               2.0          574.0            558.0            92785.714286   \n",
       "\n",
       "  weekday  month  year  floor_category  ratio_of_living_area_and_total_area  \\\n",
       "0       3      3  2019          другой                             0.472222   \n",
       "1       1     12  2018          первый                             0.460396   \n",
       "2       3      8  2015          другой                             0.612500   \n",
       "\n",
       "   ratio_of_kitchen_area_and_total_area  \n",
       "0                              0.231481  \n",
       "1                              0.272277  \n",
       "2                              0.148214  \n",
       "\n",
       "[3 rows x 29 columns]"
      ]
     },
     "execution_count": 24,
     "metadata": {},
     "output_type": "execute_result"
    }
   ],
   "source": [
    "selling.head(3) "
   ]
  },
  {
   "cell_type": "code",
   "execution_count": 25,
   "metadata": {},
   "outputs": [
    {
     "data": {
      "text/html": [
       "<div>\n",
       "<style scoped>\n",
       "    .dataframe tbody tr th:only-of-type {\n",
       "        vertical-align: middle;\n",
       "    }\n",
       "\n",
       "    .dataframe tbody tr th {\n",
       "        vertical-align: top;\n",
       "    }\n",
       "\n",
       "    .dataframe thead th {\n",
       "        text-align: right;\n",
       "    }\n",
       "</style>\n",
       "<table border=\"1\" class=\"dataframe\">\n",
       "  <thead>\n",
       "    <tr style=\"text-align: right;\">\n",
       "      <th></th>\n",
       "      <th>total_images</th>\n",
       "      <th>last_price</th>\n",
       "      <th>total_area</th>\n",
       "      <th>rooms</th>\n",
       "      <th>ceiling_height</th>\n",
       "      <th>floors_total</th>\n",
       "      <th>living_area</th>\n",
       "      <th>floor</th>\n",
       "      <th>kitchen_area</th>\n",
       "      <th>balcony</th>\n",
       "      <th>...</th>\n",
       "      <th>parks_nearest</th>\n",
       "      <th>ponds_around3000</th>\n",
       "      <th>ponds_nearest</th>\n",
       "      <th>days_exposition</th>\n",
       "      <th>price_per_square_meter</th>\n",
       "      <th>weekday</th>\n",
       "      <th>month</th>\n",
       "      <th>year</th>\n",
       "      <th>ratio_of_living_area_and_total_area</th>\n",
       "      <th>ratio_of_kitchen_area_and_total_area</th>\n",
       "    </tr>\n",
       "  </thead>\n",
       "  <tbody>\n",
       "    <tr>\n",
       "      <td>count</td>\n",
       "      <td>23699.000000</td>\n",
       "      <td>2.369900e+04</td>\n",
       "      <td>23699.000000</td>\n",
       "      <td>23699.000000</td>\n",
       "      <td>14504.000000</td>\n",
       "      <td>23613.000000</td>\n",
       "      <td>21796.000000</td>\n",
       "      <td>23699.000000</td>\n",
       "      <td>21421.000000</td>\n",
       "      <td>23699.000000</td>\n",
       "      <td>...</td>\n",
       "      <td>8079.000000</td>\n",
       "      <td>18181.000000</td>\n",
       "      <td>9110.000000</td>\n",
       "      <td>20518.000000</td>\n",
       "      <td>2.369900e+04</td>\n",
       "      <td>23699.000000</td>\n",
       "      <td>23699.000000</td>\n",
       "      <td>23699.000000</td>\n",
       "      <td>21796.000000</td>\n",
       "      <td>21421.000000</td>\n",
       "    </tr>\n",
       "    <tr>\n",
       "      <td>mean</td>\n",
       "      <td>9.858475</td>\n",
       "      <td>6.541549e+06</td>\n",
       "      <td>60.348651</td>\n",
       "      <td>2.070636</td>\n",
       "      <td>2.771499</td>\n",
       "      <td>10.673824</td>\n",
       "      <td>34.457852</td>\n",
       "      <td>5.892358</td>\n",
       "      <td>10.569807</td>\n",
       "      <td>0.591080</td>\n",
       "      <td>...</td>\n",
       "      <td>490.804555</td>\n",
       "      <td>0.770255</td>\n",
       "      <td>517.980900</td>\n",
       "      <td>180.888634</td>\n",
       "      <td>9.942166e+04</td>\n",
       "      <td>2.569307</td>\n",
       "      <td>6.400101</td>\n",
       "      <td>2017.367146</td>\n",
       "      <td>0.564766</td>\n",
       "      <td>0.187355</td>\n",
       "    </tr>\n",
       "    <tr>\n",
       "      <td>std</td>\n",
       "      <td>5.682529</td>\n",
       "      <td>1.088701e+07</td>\n",
       "      <td>35.654083</td>\n",
       "      <td>1.078405</td>\n",
       "      <td>1.261056</td>\n",
       "      <td>6.597173</td>\n",
       "      <td>22.030445</td>\n",
       "      <td>4.885249</td>\n",
       "      <td>5.905438</td>\n",
       "      <td>0.959298</td>\n",
       "      <td>...</td>\n",
       "      <td>342.317995</td>\n",
       "      <td>0.938346</td>\n",
       "      <td>277.720643</td>\n",
       "      <td>219.727988</td>\n",
       "      <td>5.030680e+04</td>\n",
       "      <td>1.789082</td>\n",
       "      <td>3.491561</td>\n",
       "      <td>1.039771</td>\n",
       "      <td>0.105368</td>\n",
       "      <td>0.072968</td>\n",
       "    </tr>\n",
       "    <tr>\n",
       "      <td>min</td>\n",
       "      <td>0.000000</td>\n",
       "      <td>1.219000e+04</td>\n",
       "      <td>12.000000</td>\n",
       "      <td>0.000000</td>\n",
       "      <td>1.000000</td>\n",
       "      <td>1.000000</td>\n",
       "      <td>2.000000</td>\n",
       "      <td>1.000000</td>\n",
       "      <td>1.300000</td>\n",
       "      <td>0.000000</td>\n",
       "      <td>...</td>\n",
       "      <td>1.000000</td>\n",
       "      <td>0.000000</td>\n",
       "      <td>13.000000</td>\n",
       "      <td>1.000000</td>\n",
       "      <td>1.118349e+02</td>\n",
       "      <td>0.000000</td>\n",
       "      <td>1.000000</td>\n",
       "      <td>2014.000000</td>\n",
       "      <td>0.021583</td>\n",
       "      <td>0.025381</td>\n",
       "    </tr>\n",
       "    <tr>\n",
       "      <td>25%</td>\n",
       "      <td>6.000000</td>\n",
       "      <td>3.400000e+06</td>\n",
       "      <td>40.000000</td>\n",
       "      <td>1.000000</td>\n",
       "      <td>2.520000</td>\n",
       "      <td>5.000000</td>\n",
       "      <td>18.600000</td>\n",
       "      <td>2.000000</td>\n",
       "      <td>7.000000</td>\n",
       "      <td>0.000000</td>\n",
       "      <td>...</td>\n",
       "      <td>288.000000</td>\n",
       "      <td>0.000000</td>\n",
       "      <td>294.000000</td>\n",
       "      <td>45.000000</td>\n",
       "      <td>7.658547e+04</td>\n",
       "      <td>1.000000</td>\n",
       "      <td>3.000000</td>\n",
       "      <td>2017.000000</td>\n",
       "      <td>0.495177</td>\n",
       "      <td>0.133333</td>\n",
       "    </tr>\n",
       "    <tr>\n",
       "      <td>50%</td>\n",
       "      <td>9.000000</td>\n",
       "      <td>4.650000e+06</td>\n",
       "      <td>52.000000</td>\n",
       "      <td>2.000000</td>\n",
       "      <td>2.650000</td>\n",
       "      <td>9.000000</td>\n",
       "      <td>30.000000</td>\n",
       "      <td>4.000000</td>\n",
       "      <td>9.100000</td>\n",
       "      <td>0.000000</td>\n",
       "      <td>...</td>\n",
       "      <td>455.000000</td>\n",
       "      <td>1.000000</td>\n",
       "      <td>502.000000</td>\n",
       "      <td>95.000000</td>\n",
       "      <td>9.500000e+04</td>\n",
       "      <td>3.000000</td>\n",
       "      <td>6.000000</td>\n",
       "      <td>2017.000000</td>\n",
       "      <td>0.567860</td>\n",
       "      <td>0.172414</td>\n",
       "    </tr>\n",
       "    <tr>\n",
       "      <td>75%</td>\n",
       "      <td>14.000000</td>\n",
       "      <td>6.800000e+06</td>\n",
       "      <td>69.900000</td>\n",
       "      <td>3.000000</td>\n",
       "      <td>2.800000</td>\n",
       "      <td>16.000000</td>\n",
       "      <td>42.300000</td>\n",
       "      <td>8.000000</td>\n",
       "      <td>12.000000</td>\n",
       "      <td>1.000000</td>\n",
       "      <td>...</td>\n",
       "      <td>612.000000</td>\n",
       "      <td>1.000000</td>\n",
       "      <td>729.000000</td>\n",
       "      <td>232.000000</td>\n",
       "      <td>1.142563e+05</td>\n",
       "      <td>4.000000</td>\n",
       "      <td>10.000000</td>\n",
       "      <td>2018.000000</td>\n",
       "      <td>0.637880</td>\n",
       "      <td>0.232416</td>\n",
       "    </tr>\n",
       "    <tr>\n",
       "      <td>max</td>\n",
       "      <td>50.000000</td>\n",
       "      <td>7.630000e+08</td>\n",
       "      <td>900.000000</td>\n",
       "      <td>19.000000</td>\n",
       "      <td>100.000000</td>\n",
       "      <td>60.000000</td>\n",
       "      <td>409.700000</td>\n",
       "      <td>33.000000</td>\n",
       "      <td>112.000000</td>\n",
       "      <td>5.000000</td>\n",
       "      <td>...</td>\n",
       "      <td>3190.000000</td>\n",
       "      <td>3.000000</td>\n",
       "      <td>1344.000000</td>\n",
       "      <td>1580.000000</td>\n",
       "      <td>1.907500e+06</td>\n",
       "      <td>6.000000</td>\n",
       "      <td>12.000000</td>\n",
       "      <td>2019.000000</td>\n",
       "      <td>1.000000</td>\n",
       "      <td>0.787879</td>\n",
       "    </tr>\n",
       "  </tbody>\n",
       "</table>\n",
       "<p>8 rows × 23 columns</p>\n",
       "</div>"
      ],
      "text/plain": [
       "       total_images    last_price    total_area         rooms  ceiling_height  \\\n",
       "count  23699.000000  2.369900e+04  23699.000000  23699.000000    14504.000000   \n",
       "mean       9.858475  6.541549e+06     60.348651      2.070636        2.771499   \n",
       "std        5.682529  1.088701e+07     35.654083      1.078405        1.261056   \n",
       "min        0.000000  1.219000e+04     12.000000      0.000000        1.000000   \n",
       "25%        6.000000  3.400000e+06     40.000000      1.000000        2.520000   \n",
       "50%        9.000000  4.650000e+06     52.000000      2.000000        2.650000   \n",
       "75%       14.000000  6.800000e+06     69.900000      3.000000        2.800000   \n",
       "max       50.000000  7.630000e+08    900.000000     19.000000      100.000000   \n",
       "\n",
       "       floors_total   living_area         floor  kitchen_area       balcony  \\\n",
       "count  23613.000000  21796.000000  23699.000000  21421.000000  23699.000000   \n",
       "mean      10.673824     34.457852      5.892358     10.569807      0.591080   \n",
       "std        6.597173     22.030445      4.885249      5.905438      0.959298   \n",
       "min        1.000000      2.000000      1.000000      1.300000      0.000000   \n",
       "25%        5.000000     18.600000      2.000000      7.000000      0.000000   \n",
       "50%        9.000000     30.000000      4.000000      9.100000      0.000000   \n",
       "75%       16.000000     42.300000      8.000000     12.000000      1.000000   \n",
       "max       60.000000    409.700000     33.000000    112.000000      5.000000   \n",
       "\n",
       "       ...  parks_nearest  ponds_around3000  ponds_nearest  days_exposition  \\\n",
       "count  ...    8079.000000      18181.000000    9110.000000     20518.000000   \n",
       "mean   ...     490.804555          0.770255     517.980900       180.888634   \n",
       "std    ...     342.317995          0.938346     277.720643       219.727988   \n",
       "min    ...       1.000000          0.000000      13.000000         1.000000   \n",
       "25%    ...     288.000000          0.000000     294.000000        45.000000   \n",
       "50%    ...     455.000000          1.000000     502.000000        95.000000   \n",
       "75%    ...     612.000000          1.000000     729.000000       232.000000   \n",
       "max    ...    3190.000000          3.000000    1344.000000      1580.000000   \n",
       "\n",
       "       price_per_square_meter       weekday         month          year  \\\n",
       "count            2.369900e+04  23699.000000  23699.000000  23699.000000   \n",
       "mean             9.942166e+04      2.569307      6.400101   2017.367146   \n",
       "std              5.030680e+04      1.789082      3.491561      1.039771   \n",
       "min              1.118349e+02      0.000000      1.000000   2014.000000   \n",
       "25%              7.658547e+04      1.000000      3.000000   2017.000000   \n",
       "50%              9.500000e+04      3.000000      6.000000   2017.000000   \n",
       "75%              1.142563e+05      4.000000     10.000000   2018.000000   \n",
       "max              1.907500e+06      6.000000     12.000000   2019.000000   \n",
       "\n",
       "       ratio_of_living_area_and_total_area  \\\n",
       "count                         21796.000000   \n",
       "mean                              0.564766   \n",
       "std                               0.105368   \n",
       "min                               0.021583   \n",
       "25%                               0.495177   \n",
       "50%                               0.567860   \n",
       "75%                               0.637880   \n",
       "max                               1.000000   \n",
       "\n",
       "       ratio_of_kitchen_area_and_total_area  \n",
       "count                          21421.000000  \n",
       "mean                               0.187355  \n",
       "std                                0.072968  \n",
       "min                                0.025381  \n",
       "25%                                0.133333  \n",
       "50%                                0.172414  \n",
       "75%                                0.232416  \n",
       "max                                0.787879  \n",
       "\n",
       "[8 rows x 23 columns]"
      ]
     },
     "execution_count": 25,
     "metadata": {},
     "output_type": "execute_result"
    }
   ],
   "source": [
    "selling.describe()"
   ]
  },
  {
   "cell_type": "markdown",
   "metadata": {},
   "source": [
    "### Шаг 4. Проведите исследовательский анализ данных и выполните инструкции:"
   ]
  },
  {
   "cell_type": "markdown",
   "metadata": {},
   "source": [
    "### Построение гистограмм для площади, цены, число комнат и высоты потолков."
   ]
  },
  {
   "cell_type": "code",
   "execution_count": 26,
   "metadata": {},
   "outputs": [],
   "source": [
    "columns_need = ['last_price', 'total_area', 'rooms', 'ceiling_height', 'ratio_of_living_area_and_total_area', 'ratio_of_kitchen_area_and_total_area'] #отберу нужные столбцы для исследования из общей таблицы"
   ]
  },
  {
   "cell_type": "code",
   "execution_count": 27,
   "metadata": {},
   "outputs": [
    {
     "data": {
      "text/html": [
       "<div>\n",
       "<style scoped>\n",
       "    .dataframe tbody tr th:only-of-type {\n",
       "        vertical-align: middle;\n",
       "    }\n",
       "\n",
       "    .dataframe tbody tr th {\n",
       "        vertical-align: top;\n",
       "    }\n",
       "\n",
       "    .dataframe thead tr th {\n",
       "        text-align: left;\n",
       "    }\n",
       "\n",
       "    .dataframe thead tr:last-of-type th {\n",
       "        text-align: right;\n",
       "    }\n",
       "</style>\n",
       "<table border=\"1\" class=\"dataframe\">\n",
       "  <thead>\n",
       "    <tr>\n",
       "      <th></th>\n",
       "      <th colspan=\"5\" halign=\"left\">median</th>\n",
       "      <th colspan=\"5\" halign=\"left\">mean</th>\n",
       "    </tr>\n",
       "    <tr>\n",
       "      <th></th>\n",
       "      <th>ceiling_height</th>\n",
       "      <th>last_price</th>\n",
       "      <th>ratio_of_kitchen_area_and_total_area</th>\n",
       "      <th>ratio_of_living_area_and_total_area</th>\n",
       "      <th>total_area</th>\n",
       "      <th>ceiling_height</th>\n",
       "      <th>last_price</th>\n",
       "      <th>ratio_of_kitchen_area_and_total_area</th>\n",
       "      <th>ratio_of_living_area_and_total_area</th>\n",
       "      <th>total_area</th>\n",
       "    </tr>\n",
       "    <tr>\n",
       "      <th>rooms</th>\n",
       "      <th></th>\n",
       "      <th></th>\n",
       "      <th></th>\n",
       "      <th></th>\n",
       "      <th></th>\n",
       "      <th></th>\n",
       "      <th></th>\n",
       "      <th></th>\n",
       "      <th></th>\n",
       "      <th></th>\n",
       "    </tr>\n",
       "  </thead>\n",
       "  <tbody>\n",
       "    <tr>\n",
       "      <td>0</td>\n",
       "      <td>2.750</td>\n",
       "      <td>2700000.0</td>\n",
       "      <td>NaN</td>\n",
       "      <td>0.689655</td>\n",
       "      <td>26.05</td>\n",
       "      <td>3.104268</td>\n",
       "      <td>3.337724e+06</td>\n",
       "      <td>NaN</td>\n",
       "      <td>0.685467</td>\n",
       "      <td>29.279746</td>\n",
       "    </tr>\n",
       "    <tr>\n",
       "      <td>1</td>\n",
       "      <td>2.640</td>\n",
       "      <td>3600000.0</td>\n",
       "      <td>0.247839</td>\n",
       "      <td>0.482488</td>\n",
       "      <td>36.56</td>\n",
       "      <td>2.716267</td>\n",
       "      <td>3.835362e+06</td>\n",
       "      <td>0.249906</td>\n",
       "      <td>0.485989</td>\n",
       "      <td>37.644669</td>\n",
       "    </tr>\n",
       "    <tr>\n",
       "      <td>2</td>\n",
       "      <td>2.600</td>\n",
       "      <td>4770169.0</td>\n",
       "      <td>0.161075</td>\n",
       "      <td>0.585009</td>\n",
       "      <td>53.00</td>\n",
       "      <td>2.756499</td>\n",
       "      <td>5.591605e+06</td>\n",
       "      <td>0.174163</td>\n",
       "      <td>0.579287</td>\n",
       "      <td>55.855089</td>\n",
       "    </tr>\n",
       "    <tr>\n",
       "      <td>3</td>\n",
       "      <td>2.650</td>\n",
       "      <td>6200000.0</td>\n",
       "      <td>0.128571</td>\n",
       "      <td>0.631667</td>\n",
       "      <td>73.00</td>\n",
       "      <td>2.774450</td>\n",
       "      <td>8.179119e+06</td>\n",
       "      <td>0.140928</td>\n",
       "      <td>0.625302</td>\n",
       "      <td>77.764580</td>\n",
       "    </tr>\n",
       "    <tr>\n",
       "      <td>4</td>\n",
       "      <td>2.800</td>\n",
       "      <td>9000000.0</td>\n",
       "      <td>0.112245</td>\n",
       "      <td>0.659740</td>\n",
       "      <td>99.30</td>\n",
       "      <td>2.925737</td>\n",
       "      <td>1.342350e+07</td>\n",
       "      <td>0.124031</td>\n",
       "      <td>0.646489</td>\n",
       "      <td>107.610763</td>\n",
       "    </tr>\n",
       "    <tr>\n",
       "      <td>5</td>\n",
       "      <td>3.100</td>\n",
       "      <td>14000000.0</td>\n",
       "      <td>0.105386</td>\n",
       "      <td>0.651842</td>\n",
       "      <td>146.45</td>\n",
       "      <td>3.171429</td>\n",
       "      <td>2.376208e+07</td>\n",
       "      <td>0.113455</td>\n",
       "      <td>0.641377</td>\n",
       "      <td>161.474816</td>\n",
       "    </tr>\n",
       "    <tr>\n",
       "      <td>6</td>\n",
       "      <td>3.200</td>\n",
       "      <td>19000000.0</td>\n",
       "      <td>0.099502</td>\n",
       "      <td>0.679412</td>\n",
       "      <td>184.30</td>\n",
       "      <td>3.252162</td>\n",
       "      <td>3.170975e+07</td>\n",
       "      <td>0.104150</td>\n",
       "      <td>0.668819</td>\n",
       "      <td>201.537619</td>\n",
       "    </tr>\n",
       "    <tr>\n",
       "      <td>7</td>\n",
       "      <td>3.380</td>\n",
       "      <td>24900000.0</td>\n",
       "      <td>0.083717</td>\n",
       "      <td>0.681670</td>\n",
       "      <td>214.00</td>\n",
       "      <td>3.413488</td>\n",
       "      <td>5.147007e+07</td>\n",
       "      <td>0.091932</td>\n",
       "      <td>0.657981</td>\n",
       "      <td>265.325424</td>\n",
       "    </tr>\n",
       "    <tr>\n",
       "      <td>8</td>\n",
       "      <td>3.420</td>\n",
       "      <td>23095000.0</td>\n",
       "      <td>0.109170</td>\n",
       "      <td>0.688475</td>\n",
       "      <td>235.70</td>\n",
       "      <td>3.426667</td>\n",
       "      <td>5.022417e+07</td>\n",
       "      <td>0.091708</td>\n",
       "      <td>0.667001</td>\n",
       "      <td>259.233333</td>\n",
       "    </tr>\n",
       "    <tr>\n",
       "      <td>9</td>\n",
       "      <td>3.200</td>\n",
       "      <td>23750000.0</td>\n",
       "      <td>0.049620</td>\n",
       "      <td>0.628251</td>\n",
       "      <td>300.95</td>\n",
       "      <td>3.064286</td>\n",
       "      <td>3.415236e+07</td>\n",
       "      <td>0.075054</td>\n",
       "      <td>0.612299</td>\n",
       "      <td>305.975000</td>\n",
       "    </tr>\n",
       "    <tr>\n",
       "      <td>10</td>\n",
       "      <td>3.150</td>\n",
       "      <td>23000000.0</td>\n",
       "      <td>0.091624</td>\n",
       "      <td>0.653103</td>\n",
       "      <td>272.60</td>\n",
       "      <td>3.263333</td>\n",
       "      <td>2.616667e+07</td>\n",
       "      <td>0.088013</td>\n",
       "      <td>0.645065</td>\n",
       "      <td>259.566667</td>\n",
       "    </tr>\n",
       "    <tr>\n",
       "      <td>11</td>\n",
       "      <td>3.415</td>\n",
       "      <td>25250000.0</td>\n",
       "      <td>0.066855</td>\n",
       "      <td>0.710093</td>\n",
       "      <td>188.90</td>\n",
       "      <td>3.415000</td>\n",
       "      <td>2.525000e+07</td>\n",
       "      <td>0.066855</td>\n",
       "      <td>0.710093</td>\n",
       "      <td>188.900000</td>\n",
       "    </tr>\n",
       "    <tr>\n",
       "      <td>12</td>\n",
       "      <td>2.800</td>\n",
       "      <td>420000000.0</td>\n",
       "      <td>0.124444</td>\n",
       "      <td>0.455222</td>\n",
       "      <td>900.00</td>\n",
       "      <td>2.800000</td>\n",
       "      <td>4.200000e+08</td>\n",
       "      <td>0.124444</td>\n",
       "      <td>0.455222</td>\n",
       "      <td>900.000000</td>\n",
       "    </tr>\n",
       "    <tr>\n",
       "      <td>14</td>\n",
       "      <td>3.160</td>\n",
       "      <td>26829500.0</td>\n",
       "      <td>0.075636</td>\n",
       "      <td>0.648695</td>\n",
       "      <td>304.20</td>\n",
       "      <td>3.160000</td>\n",
       "      <td>2.682950e+07</td>\n",
       "      <td>0.075636</td>\n",
       "      <td>0.648695</td>\n",
       "      <td>304.200000</td>\n",
       "    </tr>\n",
       "    <tr>\n",
       "      <td>15</td>\n",
       "      <td>3.500</td>\n",
       "      <td>65000000.0</td>\n",
       "      <td>0.169492</td>\n",
       "      <td>0.693220</td>\n",
       "      <td>590.00</td>\n",
       "      <td>3.500000</td>\n",
       "      <td>6.500000e+07</td>\n",
       "      <td>0.169492</td>\n",
       "      <td>0.693220</td>\n",
       "      <td>590.000000</td>\n",
       "    </tr>\n",
       "    <tr>\n",
       "      <td>16</td>\n",
       "      <td>3.000</td>\n",
       "      <td>28500000.0</td>\n",
       "      <td>0.048148</td>\n",
       "      <td>0.666667</td>\n",
       "      <td>270.00</td>\n",
       "      <td>3.000000</td>\n",
       "      <td>2.850000e+07</td>\n",
       "      <td>0.048148</td>\n",
       "      <td>0.666667</td>\n",
       "      <td>270.000000</td>\n",
       "    </tr>\n",
       "    <tr>\n",
       "      <td>19</td>\n",
       "      <td>NaN</td>\n",
       "      <td>32250000.0</td>\n",
       "      <td>0.073679</td>\n",
       "      <td>0.706086</td>\n",
       "      <td>374.60</td>\n",
       "      <td>NaN</td>\n",
       "      <td>3.225000e+07</td>\n",
       "      <td>0.073679</td>\n",
       "      <td>0.706086</td>\n",
       "      <td>374.600000</td>\n",
       "    </tr>\n",
       "  </tbody>\n",
       "</table>\n",
       "</div>"
      ],
      "text/plain": [
       "              median                                                    \\\n",
       "      ceiling_height   last_price ratio_of_kitchen_area_and_total_area   \n",
       "rooms                                                                    \n",
       "0              2.750    2700000.0                                  NaN   \n",
       "1              2.640    3600000.0                             0.247839   \n",
       "2              2.600    4770169.0                             0.161075   \n",
       "3              2.650    6200000.0                             0.128571   \n",
       "4              2.800    9000000.0                             0.112245   \n",
       "5              3.100   14000000.0                             0.105386   \n",
       "6              3.200   19000000.0                             0.099502   \n",
       "7              3.380   24900000.0                             0.083717   \n",
       "8              3.420   23095000.0                             0.109170   \n",
       "9              3.200   23750000.0                             0.049620   \n",
       "10             3.150   23000000.0                             0.091624   \n",
       "11             3.415   25250000.0                             0.066855   \n",
       "12             2.800  420000000.0                             0.124444   \n",
       "14             3.160   26829500.0                             0.075636   \n",
       "15             3.500   65000000.0                             0.169492   \n",
       "16             3.000   28500000.0                             0.048148   \n",
       "19               NaN   32250000.0                             0.073679   \n",
       "\n",
       "                                                               mean  \\\n",
       "      ratio_of_living_area_and_total_area total_area ceiling_height   \n",
       "rooms                                                                 \n",
       "0                                0.689655      26.05       3.104268   \n",
       "1                                0.482488      36.56       2.716267   \n",
       "2                                0.585009      53.00       2.756499   \n",
       "3                                0.631667      73.00       2.774450   \n",
       "4                                0.659740      99.30       2.925737   \n",
       "5                                0.651842     146.45       3.171429   \n",
       "6                                0.679412     184.30       3.252162   \n",
       "7                                0.681670     214.00       3.413488   \n",
       "8                                0.688475     235.70       3.426667   \n",
       "9                                0.628251     300.95       3.064286   \n",
       "10                               0.653103     272.60       3.263333   \n",
       "11                               0.710093     188.90       3.415000   \n",
       "12                               0.455222     900.00       2.800000   \n",
       "14                               0.648695     304.20       3.160000   \n",
       "15                               0.693220     590.00       3.500000   \n",
       "16                               0.666667     270.00       3.000000   \n",
       "19                               0.706086     374.60            NaN   \n",
       "\n",
       "                                                          \\\n",
       "         last_price ratio_of_kitchen_area_and_total_area   \n",
       "rooms                                                      \n",
       "0      3.337724e+06                                  NaN   \n",
       "1      3.835362e+06                             0.249906   \n",
       "2      5.591605e+06                             0.174163   \n",
       "3      8.179119e+06                             0.140928   \n",
       "4      1.342350e+07                             0.124031   \n",
       "5      2.376208e+07                             0.113455   \n",
       "6      3.170975e+07                             0.104150   \n",
       "7      5.147007e+07                             0.091932   \n",
       "8      5.022417e+07                             0.091708   \n",
       "9      3.415236e+07                             0.075054   \n",
       "10     2.616667e+07                             0.088013   \n",
       "11     2.525000e+07                             0.066855   \n",
       "12     4.200000e+08                             0.124444   \n",
       "14     2.682950e+07                             0.075636   \n",
       "15     6.500000e+07                             0.169492   \n",
       "16     2.850000e+07                             0.048148   \n",
       "19     3.225000e+07                             0.073679   \n",
       "\n",
       "                                                       \n",
       "      ratio_of_living_area_and_total_area  total_area  \n",
       "rooms                                                  \n",
       "0                                0.685467   29.279746  \n",
       "1                                0.485989   37.644669  \n",
       "2                                0.579287   55.855089  \n",
       "3                                0.625302   77.764580  \n",
       "4                                0.646489  107.610763  \n",
       "5                                0.641377  161.474816  \n",
       "6                                0.668819  201.537619  \n",
       "7                                0.657981  265.325424  \n",
       "8                                0.667001  259.233333  \n",
       "9                                0.612299  305.975000  \n",
       "10                               0.645065  259.566667  \n",
       "11                               0.710093  188.900000  \n",
       "12                               0.455222  900.000000  \n",
       "14                               0.648695  304.200000  \n",
       "15                               0.693220  590.000000  \n",
       "16                               0.666667  270.000000  \n",
       "19                               0.706086  374.600000  "
      ]
     },
     "execution_count": 27,
     "metadata": {},
     "output_type": "execute_result"
    }
   ],
   "source": [
    "columns_need_median = selling.pivot_table(index='rooms', values=['last_price', 'total_area', 'ceiling_height', 'ratio_of_living_area_and_total_area', 'ratio_of_kitchen_area_and_total_area'], aggfunc=['median', 'mean'])\n",
    "columns_need_median\n",
    "#взгялнем на изменений медианы и алг.среднего других интересующих нас значений относительно количества квартир"
   ]
  },
  {
   "cell_type": "code",
   "execution_count": 28,
   "metadata": {},
   "outputs": [
    {
     "data": {
      "image/png": "[encoded data removed]",
      "text/plain": [
       "<Figure size 432x288 with 1 Axes>"
      ]
     },
     "metadata": {
      "needs_background": "light"
     },
     "output_type": "display_data"
    },
    {
     "data": {
      "image/png": "[encoded data removed]",
      "text/plain": [
       "<Figure size 432x288 with 1 Axes>"
      ]
     },
     "metadata": {
      "needs_background": "light"
     },
     "output_type": "display_data"
    },
    {
     "data": {
      "image/png": "[encoded data removed]",
      "text/plain": [
       "<Figure size 432x288 with 1 Axes>"
      ]
     },
     "metadata": {
      "needs_background": "light"
     },
     "output_type": "display_data"
    },
    {
     "data": {
      "image/png": "[encoded data removed]",
      "text/plain": [
       "<Figure size 432x288 with 1 Axes>"
      ]
     },
     "metadata": {
      "needs_background": "light"
     },
     "output_type": "display_data"
    },
    {
     "data": {
      "image/png": "[encoded data removed]",
      "text/plain": [
       "<Figure size 432x288 with 1 Axes>"
      ]
     },
     "metadata": {
      "needs_background": "light"
     },
     "output_type": "display_data"
    },
    {
     "data": {
      "image/png": "[encoded data removed]",
      "text/plain": [
       "<Figure size 432x288 with 1 Axes>"
      ]
     },
     "metadata": {
      "needs_background": "light"
     },
     "output_type": "display_data"
    }
   ],
   "source": [
    "for name in columns_need:\n",
    "    selling.hist(name, label=name, bins=100)"
   ]
  },
  {
   "cell_type": "markdown",
   "metadata": {},
   "source": [
    "### Вывод по гистограммам\n",
    "- Большинство гистограмм отображают нормальное распределение Пуассона, что говорит о приближение к действительности, полученных данных;\n",
    "- В гистограммах так же присутствуют выбросы"
   ]
  },
  {
   "cell_type": "markdown",
   "metadata": {},
   "source": [
    "## Изучение времени продажи квартиры"
   ]
  },
  {
   "cell_type": "code",
   "execution_count": 29,
   "metadata": {},
   "outputs": [
    {
     "data": {
      "text/plain": [
       "count    20518.000000\n",
       "mean       180.888634\n",
       "std        219.727988\n",
       "min          1.000000\n",
       "25%         45.000000\n",
       "50%         95.000000\n",
       "75%        232.000000\n",
       "max       1580.000000\n",
       "Name: days_exposition, dtype: float64"
      ]
     },
     "execution_count": 29,
     "metadata": {},
     "output_type": "execute_result"
    }
   ],
   "source": [
    "selling['days_exposition'].describe()"
   ]
  },
  {
   "cell_type": "markdown",
   "metadata": {},
   "source": [
    "#### Среднее время продажи квартиры"
   ]
  },
  {
   "cell_type": "code",
   "execution_count": 30,
   "metadata": {},
   "outputs": [
    {
     "data": {
      "text/plain": [
       "180.88863436982163"
      ]
     },
     "execution_count": 30,
     "metadata": {},
     "output_type": "execute_result"
    }
   ],
   "source": [
    "selling['days_exposition'].describe()['mean']"
   ]
  },
  {
   "cell_type": "markdown",
   "metadata": {},
   "source": [
    "#### Медианное время продажи квартиры"
   ]
  },
  {
   "cell_type": "code",
   "execution_count": 31,
   "metadata": {},
   "outputs": [
    {
     "data": {
      "text/plain": [
       "95.0"
      ]
     },
     "execution_count": 31,
     "metadata": {},
     "output_type": "execute_result"
    }
   ],
   "source": [
    "selling['days_exposition'].describe()['50%']"
   ]
  },
  {
   "cell_type": "markdown",
   "metadata": {},
   "source": [
    "#### Построение гистограммы для дней продажи квартиры"
   ]
  },
  {
   "cell_type": "code",
   "execution_count": 32,
   "metadata": {},
   "outputs": [
    {
     "data": {
      "text/plain": [
       "<matplotlib.axes._subplots.AxesSubplot at 0x7f4d4f902d50>"
      ]
     },
     "execution_count": 32,
     "metadata": {},
     "output_type": "execute_result"
    },
    {
     "data": {
      "image/png": "[encoded data removed]",
      "text/plain": [
       "<Figure size 432x288 with 1 Axes>"
      ]
     },
     "metadata": {
      "needs_background": "light"
     },
     "output_type": "display_data"
    }
   ],
   "source": [
    "selling['days_exposition'].hist(bins=50)"
   ]
  },
  {
   "cell_type": "markdown",
   "metadata": {},
   "source": [
    "#### Описание сверх быстрых продаж и очень долгих"
   ]
  },
  {
   "cell_type": "markdown",
   "metadata": {},
   "source": [
    "Для этого хорошо подойдет диаграмма размаха. Для этого нам понадобится:\n",
    "- квантили 25% и 75%"
   ]
  },
  {
   "cell_type": "code",
   "execution_count": 33,
   "metadata": {},
   "outputs": [],
   "source": [
    "import matplotlib.pyplot as plt \n",
    "#импорт библиотеки matplotlib"
   ]
  },
  {
   "cell_type": "code",
   "execution_count": 34,
   "metadata": {},
   "outputs": [
    {
     "data": {
      "text/plain": [
       "(-235.5, 512.5)"
      ]
     },
     "execution_count": 34,
     "metadata": {},
     "output_type": "execute_result"
    },
    {
     "data": {
      "image/png": "[encoded data removed]",
      "text/plain": [
       "<Figure size 432x288 with 1 Axes>"
      ]
     },
     "metadata": {
      "needs_background": "light"
     },
     "output_type": "display_data"
    }
   ],
   "source": [
    "quan1 = selling['days_exposition'].describe()['25%'] #нахождение 25%квантиля\n",
    "quan3 = selling['days_exposition'].describe()['75%'] #нахождение 75%квантиля\n",
    "inter_range = quan3 - quan1 #границы ящика\n",
    "lower = quan1 - 1.5*inter_range #нижняя границы \"уса\" размаха\n",
    "upper = quan3 + 1.5*inter_range #верхняя граница \"уса\" размаха\n",
    "selling.boxplot('days_exposition') #построение диаграммы размаха\n",
    "plt.ylim(lower, upper) #размечу границы для построения даиграммы, для лучшего отображения"
   ]
  },
  {
   "cell_type": "markdown",
   "metadata": {},
   "source": [
    "Так как дни продаж не могут быть отрицательными, то границы нормальных продаж - это (0; 512,5) дней. Все что вне этой границы можно считать серх долгими."
   ]
  },
  {
   "cell_type": "markdown",
   "metadata": {},
   "source": [
    "## Значения, которые выбиваются из общей таблицы или являются редкими"
   ]
  },
  {
   "cell_type": "markdown",
   "metadata": {},
   "source": [
    "По аналогии с предыдущим пунктом буду использовать диаграмму размаха для того, чтобы отсеить выбивающиеся значения. Все это автоматизирую и создам фильтр."
   ]
  },
  {
   "cell_type": "code",
   "execution_count": 35,
   "metadata": {},
   "outputs": [],
   "source": [
    "def filter_outliers(df, column_name, remove_outliers=False):\n",
    "    print(column_name)\n",
    "    df_column = df[column_name]\n",
    "    quartile_1 = df_column.describe()['25%']\n",
    "    quartile_3 = df_column.describe()['75%']\n",
    "    interquartile_range = quartile_3 - quartile_1\n",
    "    upper_whisker = quartile_1 + 1.5 * interquartile_range\n",
    "    lower_whisker = max(quartile_1 - 1.5 * interquartile_range, df_column.min())\n",
    "    \n",
    "    df.boxplot(column_name)\n",
    "    plt.ylim(lower_whisker, upper_whisker)\n",
    "    plt.show()\n",
    "    \n",
    "    print('Хорошие значения от', lower_whisker, 'до', upper_whisker)\n",
    "    outliers = df[(df_column < lower_whisker) | (df_column > upper_whisker) |\n",
    "                 (df_column.isnull())]\n",
    "    print('Количество отклоняющихся значений:', outliers.shape[0])\n",
    "    \n",
    "    if remove_outliers:\n",
    "        df.drop(outliers.index, inplace=True)\n",
    "        print('Выбросы были удалены. В таблице осталось', len(df), 'строк')\n",
    "    print('-' * 100)\n",
    "\n",
    "num_rows_before = selling.shape[0]"
   ]
  },
  {
   "cell_type": "code",
   "execution_count": 36,
   "metadata": {},
   "outputs": [
    {
     "data": {
      "text/plain": [
       "total_images                            0.104473\n",
       "last_price                              1.000000\n",
       "total_area                              0.653675\n",
       "rooms                                   0.363343\n",
       "ceiling_height                          0.085430\n",
       "floors_total                           -0.006984\n",
       "living_area                             0.566492\n",
       "floor                                   0.026576\n",
       "is_apartment                            0.026958\n",
       "studio                                 -0.025362\n",
       "open_plan                              -0.008802\n",
       "kitchen_area                            0.519869\n",
       "balcony                                 0.008559\n",
       "airports_nearest                       -0.026239\n",
       "cityCenters_nearest                    -0.206747\n",
       "parks_around3000                        0.151058\n",
       "parks_nearest                          -0.016414\n",
       "ponds_around3000                        0.159996\n",
       "ponds_nearest                          -0.084809\n",
       "days_exposition                         0.081146\n",
       "price_per_square_meter                  0.736499\n",
       "weekday                                 0.001550\n",
       "month                                   0.002779\n",
       "year                                   -0.043089\n",
       "ratio_of_living_area_and_total_area     0.002501\n",
       "ratio_of_kitchen_area_and_total_area   -0.089303\n",
       "Name: last_price, dtype: float64"
      ]
     },
     "execution_count": 36,
     "metadata": {},
     "output_type": "execute_result"
    }
   ],
   "source": [
    "selling.corr()['last_price']"
   ]
  },
  {
   "cell_type": "markdown",
   "metadata": {},
   "source": [
    "Буду производить фильтрацию исходной таблицы по тем величинам, чья корреляции к цене квартиры является значимым.\n",
    "Условной границей степени корреляции возьму 0,3 по источнику [Величина и сила коэффициента корреляции](https://statpsy.ru/correlation/velicina/)"
   ]
  },
  {
   "cell_type": "code",
   "execution_count": 37,
   "metadata": {},
   "outputs": [],
   "source": [
    "col_needed = ['total_area', 'rooms', 'living_area', 'kitchen_area', 'price_per_square_meter']"
   ]
  },
  {
   "cell_type": "code",
   "execution_count": 38,
   "metadata": {},
   "outputs": [
    {
     "name": "stdout",
     "output_type": "stream",
     "text": [
      "total_area\n"
     ]
    },
    {
     "data": {
      "image/png": "[encoded data removed]",
      "text/plain": [
       "<Figure size 432x288 with 1 Axes>"
      ]
     },
     "metadata": {
      "needs_background": "light"
     },
     "output_type": "display_data"
    },
    {
     "name": "stdout",
     "output_type": "stream",
     "text": [
      "Хорошие значения от 12.0 до 84.85000000000001\n",
      "Количество отклоняющихся значений: 3192\n",
      "Выбросы были удалены. В таблице осталось 20507 строк\n",
      "----------------------------------------------------------------------------------------------------\n",
      "rooms\n"
     ]
    },
    {
     "data": {
      "image/png": "[encoded data removed]",
      "text/plain": [
       "<Figure size 432x288 with 1 Axes>"
      ]
     },
     "metadata": {
      "needs_background": "light"
     },
     "output_type": "display_data"
    },
    {
     "name": "stdout",
     "output_type": "stream",
     "text": [
      "Хорошие значения от 0 до 2.5\n",
      "Количество отклоняющихся значений: 4594\n",
      "Выбросы были удалены. В таблице осталось 15913 строк\n",
      "----------------------------------------------------------------------------------------------------\n",
      "living_area\n"
     ]
    },
    {
     "data": {
      "image/png": "[encoded data removed]",
      "text/plain": [
       "<Figure size 432x288 with 1 Axes>"
      ]
     },
     "metadata": {
      "needs_background": "light"
     },
     "output_type": "display_data"
    },
    {
     "name": "stdout",
     "output_type": "stream",
     "text": [
      "Хорошие значения от 2.0 до 36.55\n",
      "Количество отклоняющихся значений: 2170\n",
      "Выбросы были удалены. В таблице осталось 13743 строк\n",
      "----------------------------------------------------------------------------------------------------\n",
      "kitchen_area\n"
     ]
    },
    {
     "data": {
      "image/png": "[encoded data removed]",
      "text/plain": [
       "<Figure size 432x288 with 1 Axes>"
      ]
     },
     "metadata": {
      "needs_background": "light"
     },
     "output_type": "display_data"
    },
    {
     "name": "stdout",
     "output_type": "stream",
     "text": [
      "Хорошие значения от 1.3 до 12.700000000000001\n",
      "Количество отклоняющихся значений: 2180\n",
      "Выбросы были удалены. В таблице осталось 11563 строк\n",
      "----------------------------------------------------------------------------------------------------\n",
      "price_per_square_meter\n"
     ]
    },
    {
     "data": {
      "image/png": "[encoded data removed]",
      "text/plain": [
       "<Figure size 432x288 with 1 Axes>"
      ]
     },
     "metadata": {
      "needs_background": "light"
     },
     "output_type": "display_data"
    },
    {
     "name": "stdout",
     "output_type": "stream",
     "text": [
      "Хорошие значения от 25743.371212121223 до 127589.96212121213\n",
      "Количество отклоняющихся значений: 1334\n",
      "Выбросы были удалены. В таблице осталось 10229 строк\n",
      "----------------------------------------------------------------------------------------------------\n"
     ]
    }
   ],
   "source": [
    "for column_name in col_needed:\n",
    "    filter_outliers(selling, column_name, remove_outliers=True)"
   ]
  },
  {
   "cell_type": "markdown",
   "metadata": {},
   "source": [
    "### Какие факторы больше всего влияют на стоимость квартиры?"
   ]
  },
  {
   "cell_type": "markdown",
   "metadata": {},
   "source": [
    "    К полученным в предыдущем шаге факторам:\n",
    "- total_area;\n",
    "- living_area;\n",
    "- kitchen_area;\n",
    "- price_per_square_meter.\n",
    "\n",
    "      Добавим отдельно число комнат, этаж, удалленость от центра города и даты размещения(день недели, месяц, год)."
   ]
  },
  {
   "cell_type": "code",
   "execution_count": 39,
   "metadata": {},
   "outputs": [
    {
     "data": {
      "text/plain": [
       "total_images                            0.170860\n",
       "last_price                              1.000000\n",
       "total_area                              0.602325\n",
       "rooms                                   0.358922\n",
       "ceiling_height                          0.036348\n",
       "floors_total                            0.352227\n",
       "living_area                             0.436480\n",
       "floor                                   0.242511\n",
       "is_apartment                            0.010487\n",
       "studio                                       NaN\n",
       "open_plan                                    NaN\n",
       "kitchen_area                            0.377561\n",
       "balcony                                 0.100060\n",
       "airports_nearest                       -0.038678\n",
       "cityCenters_nearest                    -0.313932\n",
       "parks_around3000                       -0.000422\n",
       "parks_nearest                           0.038096\n",
       "ponds_around3000                       -0.009045\n",
       "ponds_nearest                           0.031762\n",
       "days_exposition                        -0.037287\n",
       "price_per_square_meter                  0.729992\n",
       "weekday                                -0.006024\n",
       "month                                  -0.000817\n",
       "year                                    0.056236\n",
       "ratio_of_living_area_and_total_area    -0.035131\n",
       "ratio_of_kitchen_area_and_total_area   -0.124148\n",
       "Name: last_price, dtype: float64"
      ]
     },
     "execution_count": 39,
     "metadata": {},
     "output_type": "execute_result"
    }
   ],
   "source": [
    "selling.corr()['last_price'] #кореляция по цене квартир к числовым значениям отфильтрованных данных"
   ]
  },
  {
   "cell_type": "markdown",
   "metadata": {},
   "source": [
    "Видно, что после фильтрации таблицы корреляция основных параметров, влияющих на цену квартиры выросла."
   ]
  },
  {
   "cell_type": "markdown",
   "metadata": {},
   "source": [
    "#### Зависимость цены квартиры от цены на квадртаный метр"
   ]
  },
  {
   "cell_type": "code",
   "execution_count": 40,
   "metadata": {},
   "outputs": [
    {
     "data": {
      "text/plain": [
       "0.7299915865921114"
      ]
     },
     "execution_count": 40,
     "metadata": {},
     "output_type": "execute_result"
    }
   ],
   "source": [
    "selling['last_price'].corr(selling['price_per_square_meter']) "
   ]
  },
  {
   "cell_type": "markdown",
   "metadata": {},
   "source": [
    "Видно, что с ростом цены за кв.метр и цена на квартиру растет"
   ]
  },
  {
   "cell_type": "markdown",
   "metadata": {},
   "source": [
    "#### Зависимость цены квартиры от количества комнат"
   ]
  },
  {
   "cell_type": "code",
   "execution_count": 41,
   "metadata": {},
   "outputs": [
    {
     "data": {
      "text/plain": [
       "0.3589217536299316"
      ]
     },
     "execution_count": 41,
     "metadata": {},
     "output_type": "execute_result"
    }
   ],
   "source": [
    "selling['rooms'].corr(selling['last_price'])"
   ]
  },
  {
   "cell_type": "markdown",
   "metadata": {},
   "source": [
    "Количества комнат так же влияет на цену квартиры, но не так сильно как цена за кв.метр"
   ]
  },
  {
   "cell_type": "markdown",
   "metadata": {},
   "source": [
    "#### Зависимость цены квартиры от удаленности от центра города"
   ]
  },
  {
   "cell_type": "code",
   "execution_count": 42,
   "metadata": {},
   "outputs": [
    {
     "data": {
      "text/plain": [
       "-0.313932227657041"
      ]
     },
     "execution_count": 42,
     "metadata": {},
     "output_type": "execute_result"
    }
   ],
   "source": [
    "selling['last_price'].corr(selling['cityCenters_nearest']) "
   ]
  },
  {
   "cell_type": "markdown",
   "metadata": {},
   "source": [
    "Чем дальше от центра города, тем ниже стоимость квартиры."
   ]
  },
  {
   "cell_type": "markdown",
   "metadata": {},
   "source": [
    "#### Зависимость цены квартиры от этажа"
   ]
  },
  {
   "cell_type": "code",
   "execution_count": 43,
   "metadata": {},
   "outputs": [
    {
     "data": {
      "text/plain": [
       "1     0.0\n",
       "2     1.0\n",
       "5     1.0\n",
       "8     1.0\n",
       "10    1.0\n",
       "Name: floor_category_num, dtype: float64"
      ]
     },
     "execution_count": 43,
     "metadata": {},
     "output_type": "execute_result"
    }
   ],
   "source": [
    "selling.loc[selling['floor'] == 1, 'floor_category_num'] = 0 \n",
    "#использование метода .loc с условием и выводом строкового значения в новый столбец\n",
    "selling.loc[selling['floor'] == selling['floors_total'], 'floor_category_num'] = 2\n",
    "#использование метода .loc с условием и выводом строкового значения в новый столбец\n",
    "selling.loc[(selling['floor'] != selling['floors_total']) & (selling['floor'] != 1), 'floor_category_num'] = 1\n",
    "#использование метода .loc с условием и выводом строкового значения в новый столбец\n",
    "selling['floor_category_num'].head()\n",
    "# где значения в столлце floor_category_num равные 0 это квартиры на первом этаже, равные 2 на последнем и равные 1 на другом."
   ]
  },
  {
   "cell_type": "code",
   "execution_count": 44,
   "metadata": {},
   "outputs": [
    {
     "data": {
      "text/plain": [
       "<matplotlib.axes._subplots.AxesSubplot at 0x7f4d4bbe5650>"
      ]
     },
     "execution_count": 44,
     "metadata": {},
     "output_type": "execute_result"
    },
    {
     "data": {
      "image/png": "[encoded data removed]",
      "text/plain": [
       "<Figure size 432x288 with 1 Axes>"
      ]
     },
     "metadata": {
      "needs_background": "light"
     },
     "output_type": "display_data"
    }
   ],
   "source": [
    "selling.plot(x='floor_category_num', y='last_price', kind='scatter', alpha=0.1)"
   ]
  },
  {
   "cell_type": "markdown",
   "metadata": {},
   "source": [
    "Цена за квартиру в зависимости от этажа:\n",
    "- самые дешевые на первом этаже\n",
    "- немного дороже на последнем\n",
    "- самые дорогие в других этажах"
   ]
  },
  {
   "cell_type": "markdown",
   "metadata": {},
   "source": [
    "### Зависимость цены квартиры от даты размещения"
   ]
  },
  {
   "cell_type": "markdown",
   "metadata": {},
   "source": [
    "#### Зависимость от дня недели"
   ]
  },
  {
   "cell_type": "code",
   "execution_count": 45,
   "metadata": {},
   "outputs": [
    {
     "data": {
      "text/plain": [
       "-0.0060236536011321375"
      ]
     },
     "execution_count": 45,
     "metadata": {},
     "output_type": "execute_result"
    }
   ],
   "source": [
    "selling['last_price'].corr(selling['weekday'])"
   ]
  },
  {
   "cell_type": "code",
   "execution_count": 46,
   "metadata": {},
   "outputs": [
    {
     "data": {
      "text/plain": [
       "<matplotlib.axes._subplots.AxesSubplot at 0x7f4d4bcf3590>"
      ]
     },
     "execution_count": 46,
     "metadata": {},
     "output_type": "execute_result"
    },
    {
     "data": {
      "image/png": "[encoded data removed]",
      "text/plain": [
       "<Figure size 432x288 with 1 Axes>"
      ]
     },
     "metadata": {
      "needs_background": "light"
     },
     "output_type": "display_data"
    }
   ],
   "source": [
    "selling.plot(x='weekday', y='last_price', kind='scatter', alpha=0.1)"
   ]
  },
  {
   "cell_type": "markdown",
   "metadata": {},
   "source": [
    "#### Зависимость от месяца"
   ]
  },
  {
   "cell_type": "code",
   "execution_count": 47,
   "metadata": {},
   "outputs": [
    {
     "data": {
      "text/plain": [
       "-0.0008169664601401012"
      ]
     },
     "execution_count": 47,
     "metadata": {},
     "output_type": "execute_result"
    }
   ],
   "source": [
    "selling['last_price'].corr(selling['month'])"
   ]
  },
  {
   "cell_type": "code",
   "execution_count": 48,
   "metadata": {},
   "outputs": [
    {
     "data": {
      "text/plain": [
       "<matplotlib.axes._subplots.AxesSubplot at 0x7f4d4e819090>"
      ]
     },
     "execution_count": 48,
     "metadata": {},
     "output_type": "execute_result"
    },
    {
     "data": {
      "image/png": "[encoded data removed]",
      "text/plain": [
       "<Figure size 432x288 with 1 Axes>"
      ]
     },
     "metadata": {
      "needs_background": "light"
     },
     "output_type": "display_data"
    }
   ],
   "source": [
    "selling.plot(x='month', y='last_price', kind='scatter', alpha=0.1)"
   ]
  },
  {
   "cell_type": "markdown",
   "metadata": {},
   "source": [
    "#### Зависимость от года"
   ]
  },
  {
   "cell_type": "code",
   "execution_count": 49,
   "metadata": {},
   "outputs": [
    {
     "data": {
      "text/plain": [
       "0.05623598662673743"
      ]
     },
     "execution_count": 49,
     "metadata": {},
     "output_type": "execute_result"
    }
   ],
   "source": [
    "selling['last_price'].corr(selling['year'])"
   ]
  },
  {
   "cell_type": "code",
   "execution_count": 50,
   "metadata": {},
   "outputs": [
    {
     "data": {
      "text/plain": [
       "<matplotlib.axes._subplots.AxesSubplot at 0x7f4d4c4e8790>"
      ]
     },
     "execution_count": 50,
     "metadata": {},
     "output_type": "execute_result"
    },
    {
     "data": {
      "image/png": "[encoded data removed]",
      "text/plain": [
       "<Figure size 432x288 with 1 Axes>"
      ]
     },
     "metadata": {
      "needs_background": "light"
     },
     "output_type": "display_data"
    }
   ],
   "source": [
    "selling.plot(x='year', y='last_price', kind='scatter', alpha=0.1)"
   ]
  },
  {
   "cell_type": "markdown",
   "metadata": {},
   "source": [
    "### Вывод по данному пункту:\n",
    "- цена практически не зависит от дня размещения объявления\n",
    "- так же не зависит от месяца публикации, но стоит отметить, что минимальная цена за квартиру в мае\n",
    "- с каждым годом цена за квартиру растет и увеличвается число объявлений, наибольший рост при переходе с 2016 на 2017 год. "
   ]
  },
  {
   "cell_type": "markdown",
   "metadata": {},
   "source": [
    "### Цена за жилье в 10 городах с наибольшим количеством объявлений"
   ]
  },
  {
   "cell_type": "code",
   "execution_count": 51,
   "metadata": {},
   "outputs": [
    {
     "data": {
      "text/plain": [
       "Санкт-Петербург      5938\n",
       "посёлок Мурино        286\n",
       "посёлок Шушары        252\n",
       "Всеволожск            211\n",
       "Гатчина               206\n",
       "Колпино               191\n",
       "Пушкин                173\n",
       "посёлок Парголово     170\n",
       "деревня Кудрово       148\n",
       "Петергоф              132\n",
       "Name: locality_name, dtype: int64"
      ]
     },
     "execution_count": 51,
     "metadata": {},
     "output_type": "execute_result"
    }
   ],
   "source": [
    "top_10cities = selling['locality_name'].value_counts().head(10)#десять городов с наибольшим кол-вом объявлений\n",
    "top_10cities #печать списка городов"
   ]
  },
  {
   "cell_type": "code",
   "execution_count": 52,
   "metadata": {},
   "outputs": [],
   "source": [
    "top10_data = selling.query('locality_name in (\"Санкт-Петербург\",\"посёлок Мурино\", \"посёлок Шушары\", \"Всеволожск\", \"Колпино\", \"Гатчина\", \"Пушкин\", \"посёлок Парголово\", \"Петергоф\", \"деревня Кудрово\")')\n",
    "#сделаем по этим 10 городам из общей таблицы"
   ]
  },
  {
   "cell_type": "code",
   "execution_count": 53,
   "metadata": {},
   "outputs": [
    {
     "data": {
      "text/html": [
       "<div>\n",
       "<style scoped>\n",
       "    .dataframe tbody tr th:only-of-type {\n",
       "        vertical-align: middle;\n",
       "    }\n",
       "\n",
       "    .dataframe tbody tr th {\n",
       "        vertical-align: top;\n",
       "    }\n",
       "\n",
       "    .dataframe thead tr th {\n",
       "        text-align: left;\n",
       "    }\n",
       "\n",
       "    .dataframe thead tr:last-of-type th {\n",
       "        text-align: right;\n",
       "    }\n",
       "</style>\n",
       "<table border=\"1\" class=\"dataframe\">\n",
       "  <thead>\n",
       "    <tr>\n",
       "      <th></th>\n",
       "      <th>mean</th>\n",
       "      <th>max</th>\n",
       "      <th>min</th>\n",
       "    </tr>\n",
       "    <tr>\n",
       "      <th></th>\n",
       "      <th>price_per_square_meter</th>\n",
       "      <th>price_per_square_meter</th>\n",
       "      <th>price_per_square_meter</th>\n",
       "    </tr>\n",
       "    <tr>\n",
       "      <th>locality_name</th>\n",
       "      <th></th>\n",
       "      <th></th>\n",
       "      <th></th>\n",
       "    </tr>\n",
       "  </thead>\n",
       "  <tbody>\n",
       "    <tr>\n",
       "      <td>Всеволожск</td>\n",
       "      <td>68299.614310</td>\n",
       "      <td>104166.666667</td>\n",
       "      <td>31400.000000</td>\n",
       "    </tr>\n",
       "    <tr>\n",
       "      <td>Гатчина</td>\n",
       "      <td>68850.906734</td>\n",
       "      <td>105818.181818</td>\n",
       "      <td>28205.128205</td>\n",
       "    </tr>\n",
       "    <tr>\n",
       "      <td>Колпино</td>\n",
       "      <td>78753.775200</td>\n",
       "      <td>103981.481481</td>\n",
       "      <td>47957.371226</td>\n",
       "    </tr>\n",
       "    <tr>\n",
       "      <td>Петергоф</td>\n",
       "      <td>83438.386733</td>\n",
       "      <td>125673.249551</td>\n",
       "      <td>61340.909091</td>\n",
       "    </tr>\n",
       "    <tr>\n",
       "      <td>Пушкин</td>\n",
       "      <td>99128.518460</td>\n",
       "      <td>127045.454545</td>\n",
       "      <td>59836.065574</td>\n",
       "    </tr>\n",
       "    <tr>\n",
       "      <td>Санкт-Петербург</td>\n",
       "      <td>101223.446378</td>\n",
       "      <td>127586.206897</td>\n",
       "      <td>41025.641026</td>\n",
       "    </tr>\n",
       "    <tr>\n",
       "      <td>деревня Кудрово</td>\n",
       "      <td>94552.024863</td>\n",
       "      <td>123878.205128</td>\n",
       "      <td>70689.655172</td>\n",
       "    </tr>\n",
       "    <tr>\n",
       "      <td>посёлок Мурино</td>\n",
       "      <td>88161.881221</td>\n",
       "      <td>127200.000000</td>\n",
       "      <td>59726.027397</td>\n",
       "    </tr>\n",
       "    <tr>\n",
       "      <td>посёлок Парголово</td>\n",
       "      <td>92842.806959</td>\n",
       "      <td>123750.000000</td>\n",
       "      <td>52325.581395</td>\n",
       "    </tr>\n",
       "    <tr>\n",
       "      <td>посёлок Шушары</td>\n",
       "      <td>80783.043326</td>\n",
       "      <td>126666.666667</td>\n",
       "      <td>47833.333333</td>\n",
       "    </tr>\n",
       "  </tbody>\n",
       "</table>\n",
       "</div>"
      ],
      "text/plain": [
       "                                    mean                    max  \\\n",
       "                  price_per_square_meter price_per_square_meter   \n",
       "locality_name                                                     \n",
       "Всеволожск                  68299.614310          104166.666667   \n",
       "Гатчина                     68850.906734          105818.181818   \n",
       "Колпино                     78753.775200          103981.481481   \n",
       "Петергоф                    83438.386733          125673.249551   \n",
       "Пушкин                      99128.518460          127045.454545   \n",
       "Санкт-Петербург            101223.446378          127586.206897   \n",
       "деревня Кудрово             94552.024863          123878.205128   \n",
       "посёлок Мурино              88161.881221          127200.000000   \n",
       "посёлок Парголово           92842.806959          123750.000000   \n",
       "посёлок Шушары              80783.043326          126666.666667   \n",
       "\n",
       "                                     min  \n",
       "                  price_per_square_meter  \n",
       "locality_name                             \n",
       "Всеволожск                  31400.000000  \n",
       "Гатчина                     28205.128205  \n",
       "Колпино                     47957.371226  \n",
       "Петергоф                    61340.909091  \n",
       "Пушкин                      59836.065574  \n",
       "Санкт-Петербург             41025.641026  \n",
       "деревня Кудрово             70689.655172  \n",
       "посёлок Мурино              59726.027397  \n",
       "посёлок Парголово           52325.581395  \n",
       "посёлок Шушары              47833.333333  "
      ]
     },
     "execution_count": 53,
     "metadata": {},
     "output_type": "execute_result"
    }
   ],
   "source": [
    "top10_data.pivot_table(index=\"locality_name\", values=\"price_per_square_meter\", aggfunc=['mean', 'max', 'min'])"
   ]
  },
  {
   "cell_type": "markdown",
   "metadata": {},
   "source": [
    "Видно, что в области средняя цена за кв.метр ниже чем в Санкт-Петербурге."
   ]
  },
  {
   "cell_type": "markdown",
   "metadata": {},
   "source": [
    "Максимальная цена за квадратный метр:\n",
    "- в Санкт-Петербурге и составляет - 125586,207"
   ]
  },
  {
   "cell_type": "markdown",
   "metadata": {},
   "source": [
    "Минимальая цена: \n",
    "- в Гатчине и составляет - 28205,128"
   ]
  },
  {
   "cell_type": "markdown",
   "metadata": {},
   "source": [
    "### Нахождение условной границы центра города для Санкт-Петербурга"
   ]
  },
  {
   "cell_type": "markdown",
   "metadata": {},
   "source": [
    "Для начала сделаем срез из общей таблицы, оставив только Санкт-Петербург."
   ]
  },
  {
   "cell_type": "code",
   "execution_count": 54,
   "metadata": {},
   "outputs": [],
   "source": [
    "data_spb = selling.query('locality_name == \"Санкт-Петербург\"') #делаем срез"
   ]
  },
  {
   "cell_type": "code",
   "execution_count": 55,
   "metadata": {},
   "outputs": [
    {
     "name": "stderr",
     "output_type": "stream",
     "text": [
      "/opt/conda/lib/python3.7/site-packages/ipykernel_launcher.py:1: SettingWithCopyWarning: \n",
      "A value is trying to be set on a copy of a slice from a DataFrame.\n",
      "Try using .loc[row_indexer,col_indexer] = value instead\n",
      "\n",
      "See the caveats in the documentation: http://pandas.pydata.org/pandas-docs/stable/user_guide/indexing.html#returning-a-view-versus-a-copy\n",
      "  \"\"\"Entry point for launching an IPython kernel.\n"
     ]
    },
    {
     "data": {
      "text/plain": [
       "2     13.933\n",
       "10    13.878\n",
       "15    14.259\n",
       "17    14.616\n",
       "18    10.842\n",
       "21     9.722\n",
       "23    14.211\n",
       "34    12.739\n",
       "36    16.461\n",
       "39    12.209\n",
       "Name: cityCenters_km, dtype: float64"
      ]
     },
     "execution_count": 55,
     "metadata": {},
     "output_type": "execute_result"
    }
   ],
   "source": [
    "data_spb['cityCenters_km'] = data_spb['cityCenters_nearest']/1000 #создаем столбец до центра города,в км\n",
    "data_spb['cityCenters_km'].head(10)"
   ]
  },
  {
   "cell_type": "code",
   "execution_count": 56,
   "metadata": {},
   "outputs": [
    {
     "name": "stderr",
     "output_type": "stream",
     "text": [
      "/opt/conda/lib/python3.7/site-packages/ipykernel_launcher.py:1: SettingWithCopyWarning: \n",
      "A value is trying to be set on a copy of a slice from a DataFrame.\n",
      "Try using .loc[row_indexer,col_indexer] = value instead\n",
      "\n",
      "See the caveats in the documentation: http://pandas.pydata.org/pandas-docs/stable/user_guide/indexing.html#returning-a-view-versus-a-copy\n",
      "  \"\"\"Entry point for launching an IPython kernel.\n"
     ]
    },
    {
     "data": {
      "text/plain": [
       "2     14.0\n",
       "10    14.0\n",
       "15    14.0\n",
       "17    15.0\n",
       "18    11.0\n",
       "21    10.0\n",
       "23    14.0\n",
       "34    13.0\n",
       "36    16.0\n",
       "39    12.0\n",
       "Name: cityCenters_km, dtype: float64"
      ]
     },
     "execution_count": 56,
     "metadata": {},
     "output_type": "execute_result"
    }
   ],
   "source": [
    "data_spb['cityCenters_km'] = round(data_spb['cityCenters_km']) #округляем данные до центра города в км до целых\n",
    "data_spb['cityCenters_km'].head(10)"
   ]
  },
  {
   "cell_type": "code",
   "execution_count": 57,
   "metadata": {},
   "outputs": [
    {
     "data": {
      "text/html": [
       "<div>\n",
       "<style scoped>\n",
       "    .dataframe tbody tr th:only-of-type {\n",
       "        vertical-align: middle;\n",
       "    }\n",
       "\n",
       "    .dataframe tbody tr th {\n",
       "        vertical-align: top;\n",
       "    }\n",
       "\n",
       "    .dataframe thead th {\n",
       "        text-align: right;\n",
       "    }\n",
       "</style>\n",
       "<table border=\"1\" class=\"dataframe\">\n",
       "  <thead>\n",
       "    <tr style=\"text-align: right;\">\n",
       "      <th></th>\n",
       "      <th>last_price</th>\n",
       "    </tr>\n",
       "    <tr>\n",
       "      <th>cityCenters_km</th>\n",
       "      <th></th>\n",
       "    </tr>\n",
       "  </thead>\n",
       "  <tbody>\n",
       "    <tr>\n",
       "      <td>1.0</td>\n",
       "      <td>5.520750e+06</td>\n",
       "    </tr>\n",
       "    <tr>\n",
       "      <td>2.0</td>\n",
       "      <td>5.460000e+06</td>\n",
       "    </tr>\n",
       "    <tr>\n",
       "      <td>3.0</td>\n",
       "      <td>5.108794e+06</td>\n",
       "    </tr>\n",
       "    <tr>\n",
       "      <td>4.0</td>\n",
       "      <td>5.443274e+06</td>\n",
       "    </tr>\n",
       "    <tr>\n",
       "      <td>5.0</td>\n",
       "      <td>4.975701e+06</td>\n",
       "    </tr>\n",
       "    <tr>\n",
       "      <td>6.0</td>\n",
       "      <td>4.859728e+06</td>\n",
       "    </tr>\n",
       "    <tr>\n",
       "      <td>7.0</td>\n",
       "      <td>4.942875e+06</td>\n",
       "    </tr>\n",
       "    <tr>\n",
       "      <td>8.0</td>\n",
       "      <td>4.466976e+06</td>\n",
       "    </tr>\n",
       "    <tr>\n",
       "      <td>9.0</td>\n",
       "      <td>4.316414e+06</td>\n",
       "    </tr>\n",
       "    <tr>\n",
       "      <td>10.0</td>\n",
       "      <td>4.277823e+06</td>\n",
       "    </tr>\n",
       "    <tr>\n",
       "      <td>11.0</td>\n",
       "      <td>4.343058e+06</td>\n",
       "    </tr>\n",
       "    <tr>\n",
       "      <td>12.0</td>\n",
       "      <td>4.397642e+06</td>\n",
       "    </tr>\n",
       "    <tr>\n",
       "      <td>13.0</td>\n",
       "      <td>4.540166e+06</td>\n",
       "    </tr>\n",
       "    <tr>\n",
       "      <td>14.0</td>\n",
       "      <td>4.370790e+06</td>\n",
       "    </tr>\n",
       "    <tr>\n",
       "      <td>15.0</td>\n",
       "      <td>4.274397e+06</td>\n",
       "    </tr>\n",
       "    <tr>\n",
       "      <td>16.0</td>\n",
       "      <td>4.202667e+06</td>\n",
       "    </tr>\n",
       "    <tr>\n",
       "      <td>17.0</td>\n",
       "      <td>4.098834e+06</td>\n",
       "    </tr>\n",
       "    <tr>\n",
       "      <td>18.0</td>\n",
       "      <td>4.119698e+06</td>\n",
       "    </tr>\n",
       "    <tr>\n",
       "      <td>19.0</td>\n",
       "      <td>4.189233e+06</td>\n",
       "    </tr>\n",
       "    <tr>\n",
       "      <td>20.0</td>\n",
       "      <td>4.277417e+06</td>\n",
       "    </tr>\n",
       "    <tr>\n",
       "      <td>21.0</td>\n",
       "      <td>3.934456e+06</td>\n",
       "    </tr>\n",
       "    <tr>\n",
       "      <td>22.0</td>\n",
       "      <td>4.276729e+06</td>\n",
       "    </tr>\n",
       "    <tr>\n",
       "      <td>23.0</td>\n",
       "      <td>3.942333e+06</td>\n",
       "    </tr>\n",
       "    <tr>\n",
       "      <td>24.0</td>\n",
       "      <td>3.349125e+06</td>\n",
       "    </tr>\n",
       "    <tr>\n",
       "      <td>25.0</td>\n",
       "      <td>3.825556e+06</td>\n",
       "    </tr>\n",
       "    <tr>\n",
       "      <td>26.0</td>\n",
       "      <td>3.272933e+06</td>\n",
       "    </tr>\n",
       "    <tr>\n",
       "      <td>27.0</td>\n",
       "      <td>2.250000e+06</td>\n",
       "    </tr>\n",
       "    <tr>\n",
       "      <td>28.0</td>\n",
       "      <td>3.869000e+06</td>\n",
       "    </tr>\n",
       "    <tr>\n",
       "      <td>29.0</td>\n",
       "      <td>4.450000e+06</td>\n",
       "    </tr>\n",
       "  </tbody>\n",
       "</table>\n",
       "</div>"
      ],
      "text/plain": [
       "                  last_price\n",
       "cityCenters_km              \n",
       "1.0             5.520750e+06\n",
       "2.0             5.460000e+06\n",
       "3.0             5.108794e+06\n",
       "4.0             5.443274e+06\n",
       "5.0             4.975701e+06\n",
       "6.0             4.859728e+06\n",
       "7.0             4.942875e+06\n",
       "8.0             4.466976e+06\n",
       "9.0             4.316414e+06\n",
       "10.0            4.277823e+06\n",
       "11.0            4.343058e+06\n",
       "12.0            4.397642e+06\n",
       "13.0            4.540166e+06\n",
       "14.0            4.370790e+06\n",
       "15.0            4.274397e+06\n",
       "16.0            4.202667e+06\n",
       "17.0            4.098834e+06\n",
       "18.0            4.119698e+06\n",
       "19.0            4.189233e+06\n",
       "20.0            4.277417e+06\n",
       "21.0            3.934456e+06\n",
       "22.0            4.276729e+06\n",
       "23.0            3.942333e+06\n",
       "24.0            3.349125e+06\n",
       "25.0            3.825556e+06\n",
       "26.0            3.272933e+06\n",
       "27.0            2.250000e+06\n",
       "28.0            3.869000e+06\n",
       "29.0            4.450000e+06"
      ]
     },
     "execution_count": 57,
     "metadata": {},
     "output_type": "execute_result"
    }
   ],
   "source": [
    "data_spb.pivot_table(index='cityCenters_km', values='last_price', aggfunc='mean')"
   ]
  },
  {
   "cell_type": "code",
   "execution_count": 58,
   "metadata": {},
   "outputs": [
    {
     "data": {
      "text/plain": [
       "<matplotlib.axes._subplots.AxesSubplot at 0x7f4d4eada750>"
      ]
     },
     "execution_count": 58,
     "metadata": {},
     "output_type": "execute_result"
    },
    {
     "data": {
      "image/png": "[encoded data removed]",
      "text/plain": [
       "<Figure size 432x288 with 1 Axes>"
      ]
     },
     "metadata": {
      "needs_background": "light"
     },
     "output_type": "display_data"
    }
   ],
   "source": [
    "data_spb.plot(x='cityCenters_km', y='last_price', kind='scatter', alpha=0.15)"
   ]
  },
  {
   "cell_type": "markdown",
   "metadata": {},
   "source": [
    "Из графика видно, что резкий спад цен просиходит на 6 километре. Затем цены начинают опять ползти вверх.\n",
    "P.S. в поддержку своих слов это так же можно заметить в созданной выше pivot_table."
   ]
  },
  {
   "cell_type": "markdown",
   "metadata": {},
   "source": [
    "### Анализ объявлений в центре города."
   ]
  },
  {
   "cell_type": "markdown",
   "metadata": {},
   "source": [
    "Сделаю срез для центра города"
   ]
  },
  {
   "cell_type": "code",
   "execution_count": 59,
   "metadata": {},
   "outputs": [],
   "source": [
    "spb_centre = data_spb.query('cityCenters_km <= 6') #срез с условием, что центр города в радиусе 6 км"
   ]
  },
  {
   "cell_type": "markdown",
   "metadata": {},
   "source": [
    "Для сравнения возьму остальную часть Санкт-Петербурга без центра"
   ]
  },
  {
   "cell_type": "code",
   "execution_count": 60,
   "metadata": {},
   "outputs": [],
   "source": [
    "spb_outer = data_spb.query('cityCenters_km > 6') #срез для остального Петербурга без центра"
   ]
  },
  {
   "cell_type": "code",
   "execution_count": 61,
   "metadata": {},
   "outputs": [
    {
     "data": {
      "text/html": [
       "<div>\n",
       "<style scoped>\n",
       "    .dataframe tbody tr th:only-of-type {\n",
       "        vertical-align: middle;\n",
       "    }\n",
       "\n",
       "    .dataframe tbody tr th {\n",
       "        vertical-align: top;\n",
       "    }\n",
       "\n",
       "    .dataframe thead tr th {\n",
       "        text-align: left;\n",
       "    }\n",
       "\n",
       "    .dataframe thead tr:last-of-type th {\n",
       "        text-align: right;\n",
       "    }\n",
       "</style>\n",
       "<table border=\"1\" class=\"dataframe\">\n",
       "  <thead>\n",
       "    <tr>\n",
       "      <th></th>\n",
       "      <th colspan=\"4\" halign=\"left\">mean</th>\n",
       "      <th colspan=\"4\" halign=\"left\">min</th>\n",
       "      <th colspan=\"4\" halign=\"left\">max</th>\n",
       "    </tr>\n",
       "    <tr>\n",
       "      <th></th>\n",
       "      <th>ceiling_height</th>\n",
       "      <th>last_price</th>\n",
       "      <th>rooms</th>\n",
       "      <th>total_area</th>\n",
       "      <th>ceiling_height</th>\n",
       "      <th>last_price</th>\n",
       "      <th>rooms</th>\n",
       "      <th>total_area</th>\n",
       "      <th>ceiling_height</th>\n",
       "      <th>last_price</th>\n",
       "      <th>rooms</th>\n",
       "      <th>total_area</th>\n",
       "    </tr>\n",
       "    <tr>\n",
       "      <th>cityCenters_km</th>\n",
       "      <th></th>\n",
       "      <th></th>\n",
       "      <th></th>\n",
       "      <th></th>\n",
       "      <th></th>\n",
       "      <th></th>\n",
       "      <th></th>\n",
       "      <th></th>\n",
       "      <th></th>\n",
       "      <th></th>\n",
       "      <th></th>\n",
       "      <th></th>\n",
       "    </tr>\n",
       "  </thead>\n",
       "  <tbody>\n",
       "    <tr>\n",
       "      <td>1.0</td>\n",
       "      <td>2.998750</td>\n",
       "      <td>5.520750e+06</td>\n",
       "      <td>1.916667</td>\n",
       "      <td>51.591667</td>\n",
       "      <td>2.50</td>\n",
       "      <td>3500000.0</td>\n",
       "      <td>1</td>\n",
       "      <td>39.00</td>\n",
       "      <td>3.50</td>\n",
       "      <td>6999000.0</td>\n",
       "      <td>2</td>\n",
       "      <td>63.3</td>\n",
       "    </tr>\n",
       "    <tr>\n",
       "      <td>2.0</td>\n",
       "      <td>3.030833</td>\n",
       "      <td>5.460000e+06</td>\n",
       "      <td>1.714286</td>\n",
       "      <td>50.861905</td>\n",
       "      <td>2.65</td>\n",
       "      <td>2750000.0</td>\n",
       "      <td>1</td>\n",
       "      <td>28.60</td>\n",
       "      <td>3.65</td>\n",
       "      <td>8300000.0</td>\n",
       "      <td>2</td>\n",
       "      <td>70.1</td>\n",
       "    </tr>\n",
       "    <tr>\n",
       "      <td>3.0</td>\n",
       "      <td>3.087857</td>\n",
       "      <td>5.108794e+06</td>\n",
       "      <td>1.693878</td>\n",
       "      <td>47.783878</td>\n",
       "      <td>2.50</td>\n",
       "      <td>2800000.0</td>\n",
       "      <td>1</td>\n",
       "      <td>31.00</td>\n",
       "      <td>4.00</td>\n",
       "      <td>6990000.0</td>\n",
       "      <td>2</td>\n",
       "      <td>66.0</td>\n",
       "    </tr>\n",
       "    <tr>\n",
       "      <td>4.0</td>\n",
       "      <td>2.933226</td>\n",
       "      <td>5.443274e+06</td>\n",
       "      <td>1.725806</td>\n",
       "      <td>49.912419</td>\n",
       "      <td>2.50</td>\n",
       "      <td>2920000.0</td>\n",
       "      <td>1</td>\n",
       "      <td>23.29</td>\n",
       "      <td>4.19</td>\n",
       "      <td>8840000.0</td>\n",
       "      <td>2</td>\n",
       "      <td>71.6</td>\n",
       "    </tr>\n",
       "    <tr>\n",
       "      <td>5.0</td>\n",
       "      <td>2.937813</td>\n",
       "      <td>4.975701e+06</td>\n",
       "      <td>1.684211</td>\n",
       "      <td>46.524561</td>\n",
       "      <td>2.50</td>\n",
       "      <td>2800000.0</td>\n",
       "      <td>1</td>\n",
       "      <td>30.10</td>\n",
       "      <td>3.50</td>\n",
       "      <td>7952112.0</td>\n",
       "      <td>2</td>\n",
       "      <td>84.1</td>\n",
       "    </tr>\n",
       "    <tr>\n",
       "      <td>6.0</td>\n",
       "      <td>2.779423</td>\n",
       "      <td>4.859728e+06</td>\n",
       "      <td>1.703704</td>\n",
       "      <td>45.501235</td>\n",
       "      <td>2.50</td>\n",
       "      <td>1900000.0</td>\n",
       "      <td>1</td>\n",
       "      <td>17.00</td>\n",
       "      <td>3.54</td>\n",
       "      <td>8150000.0</td>\n",
       "      <td>2</td>\n",
       "      <td>76.4</td>\n",
       "    </tr>\n",
       "  </tbody>\n",
       "</table>\n",
       "</div>"
      ],
      "text/plain": [
       "                         mean                                     \\\n",
       "               ceiling_height    last_price     rooms total_area   \n",
       "cityCenters_km                                                     \n",
       "1.0                  2.998750  5.520750e+06  1.916667  51.591667   \n",
       "2.0                  3.030833  5.460000e+06  1.714286  50.861905   \n",
       "3.0                  3.087857  5.108794e+06  1.693878  47.783878   \n",
       "4.0                  2.933226  5.443274e+06  1.725806  49.912419   \n",
       "5.0                  2.937813  4.975701e+06  1.684211  46.524561   \n",
       "6.0                  2.779423  4.859728e+06  1.703704  45.501235   \n",
       "\n",
       "                          min                                        max  \\\n",
       "               ceiling_height last_price rooms total_area ceiling_height   \n",
       "cityCenters_km                                                             \n",
       "1.0                      2.50  3500000.0     1      39.00           3.50   \n",
       "2.0                      2.65  2750000.0     1      28.60           3.65   \n",
       "3.0                      2.50  2800000.0     1      31.00           4.00   \n",
       "4.0                      2.50  2920000.0     1      23.29           4.19   \n",
       "5.0                      2.50  2800000.0     1      30.10           3.50   \n",
       "6.0                      2.50  1900000.0     1      17.00           3.54   \n",
       "\n",
       "                                            \n",
       "               last_price rooms total_area  \n",
       "cityCenters_km                              \n",
       "1.0             6999000.0     2       63.3  \n",
       "2.0             8300000.0     2       70.1  \n",
       "3.0             6990000.0     2       66.0  \n",
       "4.0             8840000.0     2       71.6  \n",
       "5.0             7952112.0     2       84.1  \n",
       "6.0             8150000.0     2       76.4  "
      ]
     },
     "execution_count": 61,
     "metadata": {},
     "output_type": "execute_result"
    }
   ],
   "source": [
    "spb_centre.pivot_table(index='cityCenters_km', values=[\"total_area\", \"last_price\", \"rooms\", \"ceiling_height\"], aggfunc=['mean', 'min', 'max'])\n",
    "#характеристика квартир в центре города"
   ]
  },
  {
   "cell_type": "code",
   "execution_count": 62,
   "metadata": {},
   "outputs": [
    {
     "data": {
      "text/html": [
       "<div>\n",
       "<style scoped>\n",
       "    .dataframe tbody tr th:only-of-type {\n",
       "        vertical-align: middle;\n",
       "    }\n",
       "\n",
       "    .dataframe tbody tr th {\n",
       "        vertical-align: top;\n",
       "    }\n",
       "\n",
       "    .dataframe thead tr th {\n",
       "        text-align: left;\n",
       "    }\n",
       "\n",
       "    .dataframe thead tr:last-of-type th {\n",
       "        text-align: right;\n",
       "    }\n",
       "</style>\n",
       "<table border=\"1\" class=\"dataframe\">\n",
       "  <thead>\n",
       "    <tr>\n",
       "      <th></th>\n",
       "      <th colspan=\"4\" halign=\"left\">mean</th>\n",
       "      <th colspan=\"4\" halign=\"left\">min</th>\n",
       "      <th colspan=\"4\" halign=\"left\">max</th>\n",
       "    </tr>\n",
       "    <tr>\n",
       "      <th></th>\n",
       "      <th>ceiling_height</th>\n",
       "      <th>last_price</th>\n",
       "      <th>rooms</th>\n",
       "      <th>total_area</th>\n",
       "      <th>ceiling_height</th>\n",
       "      <th>last_price</th>\n",
       "      <th>rooms</th>\n",
       "      <th>total_area</th>\n",
       "      <th>ceiling_height</th>\n",
       "      <th>last_price</th>\n",
       "      <th>rooms</th>\n",
       "      <th>total_area</th>\n",
       "    </tr>\n",
       "    <tr>\n",
       "      <th>cityCenters_km</th>\n",
       "      <th></th>\n",
       "      <th></th>\n",
       "      <th></th>\n",
       "      <th></th>\n",
       "      <th></th>\n",
       "      <th></th>\n",
       "      <th></th>\n",
       "      <th></th>\n",
       "      <th></th>\n",
       "      <th></th>\n",
       "      <th></th>\n",
       "      <th></th>\n",
       "    </tr>\n",
       "  </thead>\n",
       "  <tbody>\n",
       "    <tr>\n",
       "      <td>7.0</td>\n",
       "      <td>2.766379</td>\n",
       "      <td>4.942875e+06</td>\n",
       "      <td>1.795455</td>\n",
       "      <td>47.303409</td>\n",
       "      <td>2.50</td>\n",
       "      <td>2800000.0</td>\n",
       "      <td>1</td>\n",
       "      <td>29.50</td>\n",
       "      <td>3.40</td>\n",
       "      <td>7200000.0</td>\n",
       "      <td>2</td>\n",
       "      <td>67.87</td>\n",
       "    </tr>\n",
       "    <tr>\n",
       "      <td>8.0</td>\n",
       "      <td>2.907283</td>\n",
       "      <td>4.466976e+06</td>\n",
       "      <td>1.617021</td>\n",
       "      <td>43.020213</td>\n",
       "      <td>2.50</td>\n",
       "      <td>2750000.0</td>\n",
       "      <td>1</td>\n",
       "      <td>23.40</td>\n",
       "      <td>24.00</td>\n",
       "      <td>8300000.0</td>\n",
       "      <td>2</td>\n",
       "      <td>65.90</td>\n",
       "    </tr>\n",
       "    <tr>\n",
       "      <td>9.0</td>\n",
       "      <td>2.685448</td>\n",
       "      <td>4.316414e+06</td>\n",
       "      <td>1.528634</td>\n",
       "      <td>42.587181</td>\n",
       "      <td>2.40</td>\n",
       "      <td>2346000.0</td>\n",
       "      <td>1</td>\n",
       "      <td>25.00</td>\n",
       "      <td>4.00</td>\n",
       "      <td>8150000.0</td>\n",
       "      <td>2</td>\n",
       "      <td>75.20</td>\n",
       "    </tr>\n",
       "    <tr>\n",
       "      <td>10.0</td>\n",
       "      <td>2.598600</td>\n",
       "      <td>4.277823e+06</td>\n",
       "      <td>1.506211</td>\n",
       "      <td>41.829255</td>\n",
       "      <td>2.45</td>\n",
       "      <td>2400000.0</td>\n",
       "      <td>1</td>\n",
       "      <td>22.00</td>\n",
       "      <td>3.30</td>\n",
       "      <td>7500000.0</td>\n",
       "      <td>2</td>\n",
       "      <td>67.00</td>\n",
       "    </tr>\n",
       "    <tr>\n",
       "      <td>11.0</td>\n",
       "      <td>2.682857</td>\n",
       "      <td>4.343058e+06</td>\n",
       "      <td>1.562278</td>\n",
       "      <td>43.052900</td>\n",
       "      <td>2.48</td>\n",
       "      <td>1190000.0</td>\n",
       "      <td>1</td>\n",
       "      <td>14.00</td>\n",
       "      <td>26.00</td>\n",
       "      <td>8150000.0</td>\n",
       "      <td>2</td>\n",
       "      <td>67.60</td>\n",
       "    </tr>\n",
       "    <tr>\n",
       "      <td>12.0</td>\n",
       "      <td>2.610605</td>\n",
       "      <td>4.397642e+06</td>\n",
       "      <td>1.458278</td>\n",
       "      <td>42.743934</td>\n",
       "      <td>2.00</td>\n",
       "      <td>2600000.0</td>\n",
       "      <td>1</td>\n",
       "      <td>22.70</td>\n",
       "      <td>3.00</td>\n",
       "      <td>8600000.0</td>\n",
       "      <td>2</td>\n",
       "      <td>70.00</td>\n",
       "    </tr>\n",
       "    <tr>\n",
       "      <td>13.0</td>\n",
       "      <td>2.661816</td>\n",
       "      <td>4.540166e+06</td>\n",
       "      <td>1.518462</td>\n",
       "      <td>44.189954</td>\n",
       "      <td>2.47</td>\n",
       "      <td>2500000.0</td>\n",
       "      <td>1</td>\n",
       "      <td>22.00</td>\n",
       "      <td>25.00</td>\n",
       "      <td>9300000.0</td>\n",
       "      <td>2</td>\n",
       "      <td>76.00</td>\n",
       "    </tr>\n",
       "    <tr>\n",
       "      <td>14.0</td>\n",
       "      <td>2.641011</td>\n",
       "      <td>4.370790e+06</td>\n",
       "      <td>1.435976</td>\n",
       "      <td>42.857241</td>\n",
       "      <td>1.00</td>\n",
       "      <td>2370000.0</td>\n",
       "      <td>1</td>\n",
       "      <td>25.00</td>\n",
       "      <td>14.00</td>\n",
       "      <td>7700000.0</td>\n",
       "      <td>2</td>\n",
       "      <td>69.00</td>\n",
       "    </tr>\n",
       "    <tr>\n",
       "      <td>15.0</td>\n",
       "      <td>2.610678</td>\n",
       "      <td>4.274397e+06</td>\n",
       "      <td>1.413074</td>\n",
       "      <td>42.444979</td>\n",
       "      <td>2.30</td>\n",
       "      <td>2320000.0</td>\n",
       "      <td>1</td>\n",
       "      <td>26.00</td>\n",
       "      <td>3.30</td>\n",
       "      <td>8250000.0</td>\n",
       "      <td>2</td>\n",
       "      <td>80.00</td>\n",
       "    </tr>\n",
       "    <tr>\n",
       "      <td>16.0</td>\n",
       "      <td>2.602680</td>\n",
       "      <td>4.202667e+06</td>\n",
       "      <td>1.424920</td>\n",
       "      <td>42.992157</td>\n",
       "      <td>2.40</td>\n",
       "      <td>1870000.0</td>\n",
       "      <td>1</td>\n",
       "      <td>20.00</td>\n",
       "      <td>3.10</td>\n",
       "      <td>7900000.0</td>\n",
       "      <td>2</td>\n",
       "      <td>80.00</td>\n",
       "    </tr>\n",
       "    <tr>\n",
       "      <td>17.0</td>\n",
       "      <td>2.617473</td>\n",
       "      <td>4.098834e+06</td>\n",
       "      <td>1.471132</td>\n",
       "      <td>42.778868</td>\n",
       "      <td>2.50</td>\n",
       "      <td>2100000.0</td>\n",
       "      <td>1</td>\n",
       "      <td>26.00</td>\n",
       "      <td>3.30</td>\n",
       "      <td>7520000.0</td>\n",
       "      <td>2</td>\n",
       "      <td>73.70</td>\n",
       "    </tr>\n",
       "    <tr>\n",
       "      <td>18.0</td>\n",
       "      <td>2.606234</td>\n",
       "      <td>4.119698e+06</td>\n",
       "      <td>1.397260</td>\n",
       "      <td>42.190616</td>\n",
       "      <td>2.40</td>\n",
       "      <td>1961100.0</td>\n",
       "      <td>1</td>\n",
       "      <td>25.00</td>\n",
       "      <td>3.00</td>\n",
       "      <td>7300000.0</td>\n",
       "      <td>2</td>\n",
       "      <td>65.00</td>\n",
       "    </tr>\n",
       "    <tr>\n",
       "      <td>19.0</td>\n",
       "      <td>2.625614</td>\n",
       "      <td>4.189233e+06</td>\n",
       "      <td>1.464286</td>\n",
       "      <td>43.277262</td>\n",
       "      <td>2.50</td>\n",
       "      <td>2650000.0</td>\n",
       "      <td>1</td>\n",
       "      <td>29.61</td>\n",
       "      <td>3.10</td>\n",
       "      <td>7300000.0</td>\n",
       "      <td>2</td>\n",
       "      <td>67.60</td>\n",
       "    </tr>\n",
       "    <tr>\n",
       "      <td>20.0</td>\n",
       "      <td>2.392857</td>\n",
       "      <td>4.277417e+06</td>\n",
       "      <td>1.416667</td>\n",
       "      <td>42.350000</td>\n",
       "      <td>1.75</td>\n",
       "      <td>2850000.0</td>\n",
       "      <td>1</td>\n",
       "      <td>30.60</td>\n",
       "      <td>2.50</td>\n",
       "      <td>6990000.0</td>\n",
       "      <td>2</td>\n",
       "      <td>65.00</td>\n",
       "    </tr>\n",
       "    <tr>\n",
       "      <td>21.0</td>\n",
       "      <td>2.688889</td>\n",
       "      <td>3.934456e+06</td>\n",
       "      <td>1.400000</td>\n",
       "      <td>43.540000</td>\n",
       "      <td>2.50</td>\n",
       "      <td>2750000.0</td>\n",
       "      <td>1</td>\n",
       "      <td>29.00</td>\n",
       "      <td>3.15</td>\n",
       "      <td>6800000.0</td>\n",
       "      <td>2</td>\n",
       "      <td>64.90</td>\n",
       "    </tr>\n",
       "    <tr>\n",
       "      <td>22.0</td>\n",
       "      <td>2.629592</td>\n",
       "      <td>4.276729e+06</td>\n",
       "      <td>1.372340</td>\n",
       "      <td>46.213298</td>\n",
       "      <td>2.50</td>\n",
       "      <td>2250000.0</td>\n",
       "      <td>1</td>\n",
       "      <td>29.20</td>\n",
       "      <td>3.12</td>\n",
       "      <td>8200000.0</td>\n",
       "      <td>2</td>\n",
       "      <td>74.30</td>\n",
       "    </tr>\n",
       "    <tr>\n",
       "      <td>23.0</td>\n",
       "      <td>2.603871</td>\n",
       "      <td>3.942333e+06</td>\n",
       "      <td>1.404762</td>\n",
       "      <td>43.040476</td>\n",
       "      <td>2.48</td>\n",
       "      <td>2080000.0</td>\n",
       "      <td>1</td>\n",
       "      <td>28.00</td>\n",
       "      <td>3.00</td>\n",
       "      <td>5900000.0</td>\n",
       "      <td>2</td>\n",
       "      <td>58.00</td>\n",
       "    </tr>\n",
       "    <tr>\n",
       "      <td>24.0</td>\n",
       "      <td>2.750000</td>\n",
       "      <td>3.349125e+06</td>\n",
       "      <td>1.187500</td>\n",
       "      <td>39.331250</td>\n",
       "      <td>2.70</td>\n",
       "      <td>2400000.0</td>\n",
       "      <td>1</td>\n",
       "      <td>31.00</td>\n",
       "      <td>2.80</td>\n",
       "      <td>5150000.0</td>\n",
       "      <td>2</td>\n",
       "      <td>56.40</td>\n",
       "    </tr>\n",
       "    <tr>\n",
       "      <td>25.0</td>\n",
       "      <td>2.725000</td>\n",
       "      <td>3.825556e+06</td>\n",
       "      <td>1.333333</td>\n",
       "      <td>44.411111</td>\n",
       "      <td>2.65</td>\n",
       "      <td>3300000.0</td>\n",
       "      <td>1</td>\n",
       "      <td>32.00</td>\n",
       "      <td>2.80</td>\n",
       "      <td>4900000.0</td>\n",
       "      <td>2</td>\n",
       "      <td>69.30</td>\n",
       "    </tr>\n",
       "    <tr>\n",
       "      <td>26.0</td>\n",
       "      <td>2.618750</td>\n",
       "      <td>3.272933e+06</td>\n",
       "      <td>1.066667</td>\n",
       "      <td>37.371333</td>\n",
       "      <td>2.50</td>\n",
       "      <td>2950000.0</td>\n",
       "      <td>1</td>\n",
       "      <td>33.00</td>\n",
       "      <td>2.75</td>\n",
       "      <td>4150000.0</td>\n",
       "      <td>2</td>\n",
       "      <td>50.00</td>\n",
       "    </tr>\n",
       "    <tr>\n",
       "      <td>27.0</td>\n",
       "      <td>NaN</td>\n",
       "      <td>2.250000e+06</td>\n",
       "      <td>1.000000</td>\n",
       "      <td>32.000000</td>\n",
       "      <td>NaN</td>\n",
       "      <td>2250000.0</td>\n",
       "      <td>1</td>\n",
       "      <td>32.00</td>\n",
       "      <td>NaN</td>\n",
       "      <td>2250000.0</td>\n",
       "      <td>1</td>\n",
       "      <td>32.00</td>\n",
       "    </tr>\n",
       "    <tr>\n",
       "      <td>28.0</td>\n",
       "      <td>NaN</td>\n",
       "      <td>3.869000e+06</td>\n",
       "      <td>1.000000</td>\n",
       "      <td>38.500000</td>\n",
       "      <td>NaN</td>\n",
       "      <td>3666000.0</td>\n",
       "      <td>1</td>\n",
       "      <td>38.00</td>\n",
       "      <td>NaN</td>\n",
       "      <td>4072000.0</td>\n",
       "      <td>1</td>\n",
       "      <td>39.00</td>\n",
       "    </tr>\n",
       "    <tr>\n",
       "      <td>29.0</td>\n",
       "      <td>3.050000</td>\n",
       "      <td>4.450000e+06</td>\n",
       "      <td>2.000000</td>\n",
       "      <td>53.900000</td>\n",
       "      <td>2.60</td>\n",
       "      <td>4200000.0</td>\n",
       "      <td>2</td>\n",
       "      <td>51.00</td>\n",
       "      <td>3.50</td>\n",
       "      <td>4700000.0</td>\n",
       "      <td>2</td>\n",
       "      <td>56.80</td>\n",
       "    </tr>\n",
       "  </tbody>\n",
       "</table>\n",
       "</div>"
      ],
      "text/plain": [
       "                         mean                                     \\\n",
       "               ceiling_height    last_price     rooms total_area   \n",
       "cityCenters_km                                                     \n",
       "7.0                  2.766379  4.942875e+06  1.795455  47.303409   \n",
       "8.0                  2.907283  4.466976e+06  1.617021  43.020213   \n",
       "9.0                  2.685448  4.316414e+06  1.528634  42.587181   \n",
       "10.0                 2.598600  4.277823e+06  1.506211  41.829255   \n",
       "11.0                 2.682857  4.343058e+06  1.562278  43.052900   \n",
       "12.0                 2.610605  4.397642e+06  1.458278  42.743934   \n",
       "13.0                 2.661816  4.540166e+06  1.518462  44.189954   \n",
       "14.0                 2.641011  4.370790e+06  1.435976  42.857241   \n",
       "15.0                 2.610678  4.274397e+06  1.413074  42.444979   \n",
       "16.0                 2.602680  4.202667e+06  1.424920  42.992157   \n",
       "17.0                 2.617473  4.098834e+06  1.471132  42.778868   \n",
       "18.0                 2.606234  4.119698e+06  1.397260  42.190616   \n",
       "19.0                 2.625614  4.189233e+06  1.464286  43.277262   \n",
       "20.0                 2.392857  4.277417e+06  1.416667  42.350000   \n",
       "21.0                 2.688889  3.934456e+06  1.400000  43.540000   \n",
       "22.0                 2.629592  4.276729e+06  1.372340  46.213298   \n",
       "23.0                 2.603871  3.942333e+06  1.404762  43.040476   \n",
       "24.0                 2.750000  3.349125e+06  1.187500  39.331250   \n",
       "25.0                 2.725000  3.825556e+06  1.333333  44.411111   \n",
       "26.0                 2.618750  3.272933e+06  1.066667  37.371333   \n",
       "27.0                      NaN  2.250000e+06  1.000000  32.000000   \n",
       "28.0                      NaN  3.869000e+06  1.000000  38.500000   \n",
       "29.0                 3.050000  4.450000e+06  2.000000  53.900000   \n",
       "\n",
       "                          min                                        max  \\\n",
       "               ceiling_height last_price rooms total_area ceiling_height   \n",
       "cityCenters_km                                                             \n",
       "7.0                      2.50  2800000.0     1      29.50           3.40   \n",
       "8.0                      2.50  2750000.0     1      23.40          24.00   \n",
       "9.0                      2.40  2346000.0     1      25.00           4.00   \n",
       "10.0                     2.45  2400000.0     1      22.00           3.30   \n",
       "11.0                     2.48  1190000.0     1      14.00          26.00   \n",
       "12.0                     2.00  2600000.0     1      22.70           3.00   \n",
       "13.0                     2.47  2500000.0     1      22.00          25.00   \n",
       "14.0                     1.00  2370000.0     1      25.00          14.00   \n",
       "15.0                     2.30  2320000.0     1      26.00           3.30   \n",
       "16.0                     2.40  1870000.0     1      20.00           3.10   \n",
       "17.0                     2.50  2100000.0     1      26.00           3.30   \n",
       "18.0                     2.40  1961100.0     1      25.00           3.00   \n",
       "19.0                     2.50  2650000.0     1      29.61           3.10   \n",
       "20.0                     1.75  2850000.0     1      30.60           2.50   \n",
       "21.0                     2.50  2750000.0     1      29.00           3.15   \n",
       "22.0                     2.50  2250000.0     1      29.20           3.12   \n",
       "23.0                     2.48  2080000.0     1      28.00           3.00   \n",
       "24.0                     2.70  2400000.0     1      31.00           2.80   \n",
       "25.0                     2.65  3300000.0     1      32.00           2.80   \n",
       "26.0                     2.50  2950000.0     1      33.00           2.75   \n",
       "27.0                      NaN  2250000.0     1      32.00            NaN   \n",
       "28.0                      NaN  3666000.0     1      38.00            NaN   \n",
       "29.0                     2.60  4200000.0     2      51.00           3.50   \n",
       "\n",
       "                                            \n",
       "               last_price rooms total_area  \n",
       "cityCenters_km                              \n",
       "7.0             7200000.0     2      67.87  \n",
       "8.0             8300000.0     2      65.90  \n",
       "9.0             8150000.0     2      75.20  \n",
       "10.0            7500000.0     2      67.00  \n",
       "11.0            8150000.0     2      67.60  \n",
       "12.0            8600000.0     2      70.00  \n",
       "13.0            9300000.0     2      76.00  \n",
       "14.0            7700000.0     2      69.00  \n",
       "15.0            8250000.0     2      80.00  \n",
       "16.0            7900000.0     2      80.00  \n",
       "17.0            7520000.0     2      73.70  \n",
       "18.0            7300000.0     2      65.00  \n",
       "19.0            7300000.0     2      67.60  \n",
       "20.0            6990000.0     2      65.00  \n",
       "21.0            6800000.0     2      64.90  \n",
       "22.0            8200000.0     2      74.30  \n",
       "23.0            5900000.0     2      58.00  \n",
       "24.0            5150000.0     2      56.40  \n",
       "25.0            4900000.0     2      69.30  \n",
       "26.0            4150000.0     2      50.00  \n",
       "27.0            2250000.0     1      32.00  \n",
       "28.0            4072000.0     1      39.00  \n",
       "29.0            4700000.0     2      56.80  "
      ]
     },
     "execution_count": 62,
     "metadata": {},
     "output_type": "execute_result"
    }
   ],
   "source": [
    "spb_outer.pivot_table(index='cityCenters_km', values=[\"total_area\", \"last_price\", \"rooms\", \"ceiling_height\"], aggfunc=['mean', 'min', 'max'])"
   ]
  },
  {
   "cell_type": "markdown",
   "metadata": {},
   "source": [
    "#### Маленький вывод по двум таблицам\n",
    "\n",
    "- средняя цена за квартиру в центре выше\n",
    "- высота потолков в центре так же выше и примерно 3 метра, в остальном городе в районе 2,5\n",
    "- среднее количество комнат в центре больше 2,2 \n",
    "- общая площадь квартир больше в центре"
   ]
  },
  {
   "cell_type": "markdown",
   "metadata": {},
   "source": [
    "### Сравнение факторов, влияющих на цену квартир в центре города и в остальной части"
   ]
  },
  {
   "cell_type": "markdown",
   "metadata": {},
   "source": [
    "#### Центр Санкт-Петербугра. "
   ]
  },
  {
   "cell_type": "markdown",
   "metadata": {},
   "source": [
    "Влияние количеств комнат на цену"
   ]
  },
  {
   "cell_type": "code",
   "execution_count": 63,
   "metadata": {},
   "outputs": [
    {
     "data": {
      "text/plain": [
       "0.4352939118882398"
      ]
     },
     "execution_count": 63,
     "metadata": {},
     "output_type": "execute_result"
    }
   ],
   "source": [
    "spb_centre['last_price'].corr(spb_centre['rooms']) "
   ]
  },
  {
   "cell_type": "markdown",
   "metadata": {},
   "source": [
    "Зависимость от расстояния до центра"
   ]
  },
  {
   "cell_type": "code",
   "execution_count": 64,
   "metadata": {},
   "outputs": [
    {
     "data": {
      "text/plain": [
       "-0.1292403951436024"
      ]
     },
     "execution_count": 64,
     "metadata": {},
     "output_type": "execute_result"
    }
   ],
   "source": [
    "spb_centre['last_price'].corr(spb_centre['cityCenters_nearest']) "
   ]
  },
  {
   "cell_type": "markdown",
   "metadata": {},
   "source": [
    "Зависимость цены от этажа"
   ]
  },
  {
   "cell_type": "code",
   "execution_count": 65,
   "metadata": {},
   "outputs": [
    {
     "data": {
      "text/plain": [
       "<matplotlib.axes._subplots.AxesSubplot at 0x7f4d4c4e7d90>"
      ]
     },
     "execution_count": 65,
     "metadata": {},
     "output_type": "execute_result"
    },
    {
     "data": {
      "image/png": "[encoded data removed]",
      "text/plain": [
       "<Figure size 432x288 with 1 Axes>"
      ]
     },
     "metadata": {
      "needs_background": "light"
     },
     "output_type": "display_data"
    }
   ],
   "source": [
    "spb_centre.plot(x='floor_category_num', y='last_price', kind='scatter', alpha=0.5)"
   ]
  },
  {
   "cell_type": "markdown",
   "metadata": {},
   "source": [
    "Зависимость от даты размещения объявления"
   ]
  },
  {
   "cell_type": "code",
   "execution_count": 80,
   "metadata": {},
   "outputs": [
    {
     "data": {
      "text/plain": [
       "-0.0005882086889381212"
      ]
     },
     "execution_count": 80,
     "metadata": {},
     "output_type": "execute_result"
    }
   ],
   "source": [
    "spb_centre['last_price'].corr(spb_centre['weekday'])"
   ]
  },
  {
   "cell_type": "code",
   "execution_count": 73,
   "metadata": {},
   "outputs": [
    {
     "data": {
      "text/plain": [
       "<matplotlib.axes._subplots.AxesSubplot at 0x7f4d4bbb2450>"
      ]
     },
     "execution_count": 73,
     "metadata": {},
     "output_type": "execute_result"
    },
    {
     "data": {
      "image/png": "[encoded data removed]",
      "text/plain": [
       "<Figure size 432x288 with 1 Axes>"
      ]
     },
     "metadata": {
      "needs_background": "light"
     },
     "output_type": "display_data"
    }
   ],
   "source": [
    "spb_centre.plot(x='weekday', y='last_price', kind='scatter', alpha=0.5)"
   ]
  },
  {
   "cell_type": "code",
   "execution_count": 81,
   "metadata": {},
   "outputs": [
    {
     "data": {
      "text/plain": [
       "-0.04206898798454014"
      ]
     },
     "execution_count": 81,
     "metadata": {},
     "output_type": "execute_result"
    }
   ],
   "source": [
    "spb_centre['last_price'].corr(spb_centre['month'])"
   ]
  },
  {
   "cell_type": "code",
   "execution_count": 71,
   "metadata": {},
   "outputs": [
    {
     "data": {
      "text/plain": [
       "<matplotlib.axes._subplots.AxesSubplot at 0x7f4d8aaa5850>"
      ]
     },
     "execution_count": 71,
     "metadata": {},
     "output_type": "execute_result"
    },
    {
     "data": {
      "image/png": "[encoded data removed]",
      "text/plain": [
       "<Figure size 432x288 with 1 Axes>"
      ]
     },
     "metadata": {
      "needs_background": "light"
     },
     "output_type": "display_data"
    }
   ],
   "source": [
    "spb_centre.plot(x='month', y='last_price', kind='scatter', alpha=0.5)"
   ]
  },
  {
   "cell_type": "code",
   "execution_count": 82,
   "metadata": {},
   "outputs": [
    {
     "data": {
      "text/plain": [
       "0.0935150034269213"
      ]
     },
     "execution_count": 82,
     "metadata": {},
     "output_type": "execute_result"
    }
   ],
   "source": [
    "spb_centre['last_price'].corr(spb_centre['year'])"
   ]
  },
  {
   "cell_type": "code",
   "execution_count": 74,
   "metadata": {},
   "outputs": [
    {
     "data": {
      "text/plain": [
       "<matplotlib.axes._subplots.AxesSubplot at 0x7f4d4f291a90>"
      ]
     },
     "execution_count": 74,
     "metadata": {},
     "output_type": "execute_result"
    },
    {
     "data": {
      "image/png": "[encoded data removed]",
      "text/plain": [
       "<Figure size 432x288 with 1 Axes>"
      ]
     },
     "metadata": {
      "needs_background": "light"
     },
     "output_type": "display_data"
    }
   ],
   "source": [
    "spb_centre.plot(x='year', y='last_price', kind='scatter', alpha=0.5)"
   ]
  },
  {
   "cell_type": "markdown",
   "metadata": {},
   "source": [
    "#### Остальная часть Санкт-Петербурга"
   ]
  },
  {
   "cell_type": "markdown",
   "metadata": {},
   "source": [
    "Повторим все те же шаги, что сделали ранее для центра города."
   ]
  },
  {
   "cell_type": "markdown",
   "metadata": {},
   "source": [
    "Влияние количеств комнат на цену"
   ]
  },
  {
   "cell_type": "code",
   "execution_count": 77,
   "metadata": {},
   "outputs": [
    {
     "data": {
      "text/plain": [
       "0.5165989958464626"
      ]
     },
     "execution_count": 77,
     "metadata": {},
     "output_type": "execute_result"
    }
   ],
   "source": [
    "spb_outer['last_price'].corr(spb_outer['rooms'])"
   ]
  },
  {
   "cell_type": "markdown",
   "metadata": {},
   "source": [
    "Зависимость от расстояния до центра"
   ]
  },
  {
   "cell_type": "code",
   "execution_count": 78,
   "metadata": {},
   "outputs": [
    {
     "data": {
      "text/plain": [
       "-0.11297543771439181"
      ]
     },
     "execution_count": 78,
     "metadata": {},
     "output_type": "execute_result"
    }
   ],
   "source": [
    "spb_outer['last_price'].corr(spb_outer['cityCenters_nearest']) "
   ]
  },
  {
   "cell_type": "markdown",
   "metadata": {},
   "source": [
    "Зависимость цены от этажа"
   ]
  },
  {
   "cell_type": "code",
   "execution_count": 79,
   "metadata": {},
   "outputs": [
    {
     "data": {
      "text/plain": [
       "<matplotlib.axes._subplots.AxesSubplot at 0x7f4d4bda4bd0>"
      ]
     },
     "execution_count": 79,
     "metadata": {},
     "output_type": "execute_result"
    },
    {
     "data": {
      "image/png": "[encoded data removed]",
      "text/plain": [
       "<Figure size 432x288 with 1 Axes>"
      ]
     },
     "metadata": {
      "needs_background": "light"
     },
     "output_type": "display_data"
    }
   ],
   "source": [
    "spb_outer.plot(x='floor_category_num', y='last_price', kind='scatter', alpha=0.5)"
   ]
  },
  {
   "cell_type": "markdown",
   "metadata": {},
   "source": [
    "Зависимость от даты размещения объявления"
   ]
  },
  {
   "cell_type": "code",
   "execution_count": 83,
   "metadata": {},
   "outputs": [
    {
     "data": {
      "text/plain": [
       "-0.0026048362121972096"
      ]
     },
     "execution_count": 83,
     "metadata": {},
     "output_type": "execute_result"
    }
   ],
   "source": [
    "spb_outer['last_price'].corr(spb_outer['weekday'])"
   ]
  },
  {
   "cell_type": "code",
   "execution_count": 84,
   "metadata": {},
   "outputs": [
    {
     "data": {
      "text/plain": [
       "<matplotlib.axes._subplots.AxesSubplot at 0x7f4d4c6189d0>"
      ]
     },
     "execution_count": 84,
     "metadata": {},
     "output_type": "execute_result"
    },
    {
     "data": {
      "image/png": "[encoded data removed]",
      "text/plain": [
       "<Figure size 432x288 with 1 Axes>"
      ]
     },
     "metadata": {
      "needs_background": "light"
     },
     "output_type": "display_data"
    }
   ],
   "source": [
    "spb_outer.plot(x='weekday', y='last_price', kind='scatter', alpha=0.5)"
   ]
  },
  {
   "cell_type": "code",
   "execution_count": 85,
   "metadata": {},
   "outputs": [
    {
     "data": {
      "text/plain": [
       "-0.021867412122008968"
      ]
     },
     "execution_count": 85,
     "metadata": {},
     "output_type": "execute_result"
    }
   ],
   "source": [
    "spb_outer['last_price'].corr(spb_outer['month'])"
   ]
  },
  {
   "cell_type": "code",
   "execution_count": 86,
   "metadata": {},
   "outputs": [
    {
     "data": {
      "text/plain": [
       "<matplotlib.axes._subplots.AxesSubplot at 0x7f4d4e7ccbd0>"
      ]
     },
     "execution_count": 86,
     "metadata": {},
     "output_type": "execute_result"
    },
    {
     "data": {
      "image/png": "[encoded data removed]",
      "text/plain": [
       "<Figure size 432x288 with 1 Axes>"
      ]
     },
     "metadata": {
      "needs_background": "light"
     },
     "output_type": "display_data"
    }
   ],
   "source": [
    "spb_outer.plot(x='month', y='last_price', kind='scatter', alpha=0.5)"
   ]
  },
  {
   "cell_type": "code",
   "execution_count": 87,
   "metadata": {},
   "outputs": [
    {
     "data": {
      "text/plain": [
       "0.1218213205798962"
      ]
     },
     "execution_count": 87,
     "metadata": {},
     "output_type": "execute_result"
    }
   ],
   "source": [
    "spb_outer['last_price'].corr(spb_outer['year'])"
   ]
  },
  {
   "cell_type": "code",
   "execution_count": 88,
   "metadata": {},
   "outputs": [
    {
     "data": {
      "text/plain": [
       "<matplotlib.axes._subplots.AxesSubplot at 0x7f4d4e7c1150>"
      ]
     },
     "execution_count": 88,
     "metadata": {},
     "output_type": "execute_result"
    },
    {
     "data": {
      "image/png": "[encoded data removed]",
      "text/plain": [
       "<Figure size 432x288 with 1 Axes>"
      ]
     },
     "metadata": {
      "needs_background": "light"
     },
     "output_type": "display_data"
    }
   ],
   "source": [
    "spb_outer.plot(x='year', y='last_price', kind='scatter', alpha=0.5)"
   ]
  },
  {
   "cell_type": "markdown",
   "metadata": {},
   "source": [
    "#### Выводы по данной задаче(сравнение центра Санкт-Петербурга и остальной часть города)\n",
    "- Количество комнат влияет на общую цену; в центре Питера корреляция ниже 0,44 против 0,52\n",
    "- Чем дальше от центра, тем ниже цены\n",
    "- Цена практически не зависит от дня недели и месяца размещения объявления(есть месяца, когда количество объявлений падает - май, июнь). Стоит обратить внимание на то, что с каждым годом цена за квартиру растет(на столь больших отрезках времени, можно заметить инфляцию)\n",
    "- От этажа размещения квартиры цена тоже меняется: минимальная цена для первого этажа. Самая дорогая недвижимость на \"других\" эатажах."
   ]
  },
  {
   "cell_type": "markdown",
   "metadata": {},
   "source": [
    "### Шаг 5. Общий вывод"
   ]
  },
  {
   "cell_type": "markdown",
   "metadata": {},
   "source": [
    "### Что мы обнаружили?\n",
    "\n",
    "1) Наиболее важные характеристики недвижимости(корреляция>0.3):\n",
    "    - Жилая площадь\n",
    "    - Площадь кухни\n",
    "    - Цена за кв.метр\n",
    "    - Количество комнат\n",
    "    - Общая площадь\n",
    "2) Обнаружили выбросы в нашей выборке. Удаляли их, исходя из логики: \n",
    "    - оценивали самые важные характеристики ценообразования для недвижимости\n",
    "    - применяли фильтр диаграммы выбросов для столбцов, содержащих данную информацию\n",
    "    - остальные столюцы не трогали, во избежания потери информации, которая в дальнейшем может оказаться полезной (для мат.моделирования, например, чем больше данных - тем точнее наша модель)\n",
    "3) Провели доп.исследование других параметров:\n",
    "    - чем дальше от центра, тем ниже цена\n",
    "    - на первом этаже самые дешевые квартиры\n",
    "    - цена практически не меняется от даты объявления; на больших отрезках времени(год) можно наблюдать рост цен - на таком масштабе наглядно видно рост инфляции\n",
    "    - в мае месяца есть аномалия - квартиры дешевле, чем в остальных месяцах(видимо, падает спрос в это время на рынке недвижимости)\n",
    "4) Выбрали топ 10 населенных пунктов по кол-ву объявлений\n",
    "    - как и ожидалось самые дорогие квартиры в Питере\n",
    "5) Нашли \"условную\" границу для центра Петербурга и сравнили данные с остальной частью города:\n",
    "    - по всему городу \"двушки\" - самые популярыне квартиры\n",
    "    - количество комнат больше оказывает влияние на цену в остальном городе, чем в центре\n",
    "    - высота потолков, общая площадь, средн.число комнат, как и предполагалось, больше в центре города\n",
    "    - для всего города: \n",
    "        - на первом этаже - самые дешевые квартиры\n",
    "        - чем дальше от центра, тем ниже цена\n",
    "        - с каждым годом цена за квартиру растет\n",
    "        - в мае наблюдается спад общей цены недвижимости\n",
    "6) Стоить отдельно отметить, что полученные графики распределения - распределение Пуассона, значит данные не так уж далеки от реальных."
   ]
  }
 ],
 "metadata": {
  "kernelspec": {
   "display_name": "Python 3",
   "language": "python",
   "name": "python3"
  },
  "language_info": {
   "codemirror_mode": {
    "name": "ipython",
    "version": 3
   },
   "file_extension": ".py",
   "mimetype": "text/x-python",
   "name": "python",
   "nbconvert_exporter": "python",
   "pygments_lexer": "ipython3",
   "version": "3.8.3"
  }
 },
 "nbformat": 4,
 "nbformat_minor": 2
}
